{
 "cells": [
  {
   "cell_type": "markdown",
   "metadata": {},
   "source": [
    "# Atividade 4"
   ]
  },
  {
   "cell_type": "code",
   "execution_count": 11,
   "metadata": {},
   "outputs": [],
   "source": [
    "import pandas as pd\n",
    "import numpy as np\n",
    "\n",
    "from sklearn.model_selection import train_test_split, cross_val_score, StratifiedKFold\n",
    "from sklearn.preprocessing import MinMaxScaler\n",
    "from sklearn.neighbors import KNeighborsClassifier\n",
    "from sklearn.tree import DecisionTreeClassifier\n",
    "from sklearn.ensemble import RandomForestClassifier, BaggingClassifier, VotingClassifier\n",
    "from sklearn.neural_network import MLPClassifier\n",
    "from sklearn.metrics import classification_report, accuracy_score, confusion_matrix\n",
    "\n",
    "from scipy.stats import kruskal\n",
    "from scipy.stats import shapiro\n",
    "from scipy.stats import mannwhitneyu\n",
    "\n",
    "import matplotlib.pyplot as plt\n",
    "import seaborn as sns"
   ]
  },
  {
   "cell_type": "code",
   "execution_count": 12,
   "metadata": {},
   "outputs": [],
   "source": [
    "from warnings import filterwarnings\n",
    "filterwarnings('ignore')"
   ]
  },
  {
   "cell_type": "code",
   "execution_count": 18,
   "metadata": {},
   "outputs": [],
   "source": [
    "seed = 20"
   ]
  },
  {
   "cell_type": "markdown",
   "metadata": {},
   "source": [
    "## Load and reading the data\n"
   ]
  },
  {
   "cell_type": "code",
   "execution_count": 29,
   "metadata": {},
   "outputs": [],
   "source": [
    "dataset = pd.read_csv('../Dataset/dataset.csv')"
   ]
  },
  {
   "cell_type": "markdown",
   "metadata": {},
   "source": [
    "## Seperate teh data into Features and Target"
   ]
  },
  {
   "cell_type": "code",
   "execution_count": 30,
   "metadata": {},
   "outputs": [],
   "source": [
    "X = dataset.drop('target', axis=1)\n",
    "y = dataset.loc[:,'target']"
   ]
  },
  {
   "cell_type": "markdown",
   "metadata": {},
   "source": [
    "### Separation of Data for Training and Testing with 80:20 ratio"
   ]
  },
  {
   "cell_type": "code",
   "execution_count": 31,
   "metadata": {},
   "outputs": [],
   "source": [
    "X_train, X_test, y_train, y_test = train_test_split(X, y, test_size=0.2, random_state=seed)"
   ]
  },
  {
   "cell_type": "markdown",
   "metadata": {},
   "source": [
    "## ML algorithms"
   ]
  },
  {
   "cell_type": "code",
   "execution_count": 32,
   "metadata": {},
   "outputs": [],
   "source": [
    "scoring = 'accuracy'\n",
    "cv = 10\n",
    "folds = StratifiedKFold(n_splits=cv, random_state=None)"
   ]
  },
  {
   "cell_type": "markdown",
   "metadata": {},
   "source": [
    "## 1. KNeighborsClassifier"
   ]
  },
  {
   "cell_type": "code",
   "execution_count": 33,
   "metadata": {},
   "outputs": [
    {
     "name": "stdout",
     "output_type": "stream",
     "text": [
      "[0.99820305 0.99730458 0.99550764 0.99371069 0.99460916 0.99460916\n",
      " 0.99730458 0.99730458 0.9955036  0.99460432]\n",
      "Mean: 0.99587, std: 0.00146\n"
     ]
    }
   ],
   "source": [
    "knn = KNeighborsClassifier(n_neighbors=1, metric='manhattan')\n",
    "knn_scores = cross_val_score(estimator=knn, X=X_train, y=y_train, cv=folds, scoring=scoring)\n",
    "print(knn_scores)\n",
    "print('Mean: %.5f, std: %.5f' % (np.mean(knn_scores), np.std(knn_scores)))"
   ]
  },
  {
   "cell_type": "code",
   "execution_count": 47,
   "metadata": {},
   "outputs": [],
   "source": [
    "KNN_score = [0.99820305, 0.99730458, 0.99550764 ,0.99371069, 0.99460916, 0.99460916,\n",
    " 0.99730458, 0.99730458 ,0.9955036 , 0.99460432]"
   ]
  },
  {
   "cell_type": "markdown",
   "metadata": {},
   "source": [
    "## 2. DecisionTreeClassifier"
   ]
  },
  {
   "cell_type": "code",
   "execution_count": 41,
   "metadata": {},
   "outputs": [
    {
     "name": "stdout",
     "output_type": "stream",
     "text": [
      "[0.98113208 0.9802336  0.97124888 0.95777179 0.96855346 0.9640611\n",
      " 0.96855346 0.96945193 0.97571942 0.96852518]\n",
      "Mean: 0.97053, std: 0.00672\n"
     ]
    }
   ],
   "source": [
    "tree = DecisionTreeClassifier(criterion='gini', max_depth=None, min_samples_split=2, random_state=seed)\n",
    "tree_scores = cross_val_score(estimator=tree, X=X_train, y=y_train, cv=folds, scoring=scoring)\n",
    "print(tree_scores)\n",
    "print('Mean: %.5f, std: %.5f' % (np.mean(tree_scores), np.std(tree_scores)))"
   ]
  },
  {
   "cell_type": "code",
   "execution_count": 46,
   "metadata": {},
   "outputs": [],
   "source": [
    "DT_score = [0.98113208 ,0.9802336 , 0.97124888 ,0.95777179 ,0.96855346 ,0.9640611,\n",
    " 0.96855346, 0.96945193, 0.97571942, 0.96852518]"
   ]
  },
  {
   "cell_type": "markdown",
   "metadata": {},
   "source": [
    "## 3. RandomForestClassifier"
   ]
  },
  {
   "cell_type": "code",
   "execution_count": 42,
   "metadata": {},
   "outputs": [
    {
     "name": "stdout",
     "output_type": "stream",
     "text": [
      "[0.99281222 0.99640611 0.99281222 0.99550764 0.99101527 0.9901168\n",
      " 0.99460916 0.99730458 0.98741007 0.99190647]\n",
      "Mean: 0.99299, std: 0.00289\n"
     ]
    }
   ],
   "source": [
    "forest = RandomForestClassifier(n_estimators=110, random_state=seed)\n",
    "forest_scores = cross_val_score(estimator=forest, X=X_train, y=y_train, cv=folds, scoring=scoring)\n",
    "print(forest_scores)\n",
    "print('Mean: %.5f, std: %.5f' % (np.mean(forest_scores), np.std(forest_scores)))"
   ]
  },
  {
   "cell_type": "code",
   "execution_count": 45,
   "metadata": {},
   "outputs": [],
   "source": [
    "RF_score  =[0.99281222 ,0.99640611, 0.99281222, 0.99550764 ,0.99101527, 0.9901168,0.99460916, 0.99730458, 0.98741007 ,0.99190647]\n"
   ]
  },
  {
   "cell_type": "markdown",
   "metadata": {},
   "source": [
    "## 4. MLPClassifier"
   ]
  },
  {
   "cell_type": "code",
   "execution_count": 43,
   "metadata": {},
   "outputs": [
    {
     "name": "stdout",
     "output_type": "stream",
     "text": [
      "[0.99730458 0.99281222 0.99281222 0.99550764 0.99550764 0.9901168\n",
      " 0.99371069 0.99550764 0.99460432 0.99190647]\n",
      "Mean: 0.99398, std: 0.00201\n"
     ]
    }
   ],
   "source": [
    "mlp = MLPClassifier(hidden_layer_sizes=(55, 55, 50), activation='tanh', solver='lbfgs', max_iter=2000, random_state=seed)\n",
    "mlp_scores = cross_val_score(estimator=mlp, X=X_train, y=y_train, cv=folds, scoring=scoring)\n",
    "print(mlp_scores)\n",
    "print('Mean: %.5f, std: %.5f' % (np.mean(mlp_scores), np.std(mlp_scores)))"
   ]
  },
  {
   "cell_type": "code",
   "execution_count": 44,
   "metadata": {},
   "outputs": [],
   "source": [
    "mlp_scores = [0.99730458, 0.99281222, 0.99281222, 0.99550764, 0.99550764, 0.9901168, 0.99371069, 0.99550764, 0.99460432, 0.99190647]\n"
   ]
  },
  {
   "cell_type": "markdown",
   "metadata": {},
   "source": [
    "## statistical test check if the samples follow a normal distribution"
   ]
  },
  {
   "cell_type": "code",
   "execution_count": 60,
   "metadata": {},
   "outputs": [],
   "source": [
    "def normality_test(sample, sample_name):\n",
    "    stat, p = shapiro(sample)\n",
    "    alpha = 0.05\n",
    "    if p > alpha:\n",
    "        print(sample_name + ': Normal distribution (fail to reject H0)')\n",
    "    else:\n",
    "        print(sample_name + ' No normal distribution (reject H0)')"
   ]
  },
  {
   "cell_type": "code",
   "execution_count": 61,
   "metadata": {},
   "outputs": [
    {
     "name": "stdout",
     "output_type": "stream",
     "text": [
      "KNN: Normal distribution (fail to reject H0)\n",
      "DF: Normal distribution (fail to reject H0)\n",
      "RF: Normal distribution (fail to reject H0)\n",
      "MLP: Normal distribution (fail to reject H0)\n"
     ]
    }
   ],
   "source": [
    "clf_results = [(knn_scores, 'KNN'), (tree_scores, 'DF'), (forest_scores, 'RF'), (mlp_scores, 'MLP')]\n",
    "\n",
    "for clf_result in clf_results:\n",
    "    normality_test(clf_result[0], clf_result[1])"
   ]
  },
  {
   "cell_type": "markdown",
   "metadata": {},
   "source": [
    "### Statistical test to compare all distributions\n",
    "Given that some samples do not follow the normal distribution, and their sizes (10 for each), the non-parametric Kruskal-Wallis test will be conducted to verify if the samples follow the same distribution"
   ]
  },
  {
   "cell_type": "code",
   "execution_count": 52,
   "metadata": {},
   "outputs": [
    {
     "name": "stdout",
     "output_type": "stream",
     "text": [
      "25.218386914833637 1.3899297618593223e-05\n",
      "Different distributions (reject H0)\n"
     ]
    }
   ],
   "source": [
    "stat, p = kruskal(knn_scores, tree_scores, forest_scores, mlp_scores)\n",
    "print(stat, p)\n",
    "alpha = 0.05\n",
    "\n",
    "if p > alpha:\n",
    "    print('Same distributions (fail to reject H0)')\n",
    "else:\n",
    "    print('Different distributions (reject H0)')"
   ]
  },
  {
   "cell_type": "markdown",
   "metadata": {},
   "source": [
    "\n",
    "## Pairwise Comparison\n",
    "The result of the statistical test indicates that the samples do not follow the same distribution. Pairwise tests will be conducted to identify which classifiers have different results based on the statistics, and then select the best one."
   ]
  },
  {
   "cell_type": "code",
   "execution_count": 62,
   "metadata": {},
   "outputs": [],
   "source": [
    "def compare_samples(pair):\n",
    "    sample_names = pair[0][1] + ' x ' + pair[1][1]\n",
    "    sample_1 = pair[0][0]\n",
    "    sample_2 = pair[1][0]\n",
    "    stat, p = mannwhitneyu(sample_1, sample_2)\n",
    "    alpha = 0.05\n",
    "    if p > alpha:\n",
    "        print(sample_names + ': Same distributions (fail to reject H0). p-value: ' + str(p))\n",
    "    else:\n",
    "        print(sample_names + ': Different distributions (reject H0). p-value: '+ str(p))"
   ]
  },
  {
   "cell_type": "code",
   "execution_count": 64,
   "metadata": {},
   "outputs": [
    {
     "name": "stdout",
     "output_type": "stream",
     "text": [
      "KNN x DF: Different distributions (reject H0). p-value: 0.00017661101166893502\n",
      "KNN x RF: Different distributions (reject H0). p-value: 0.036490193433198544\n",
      "KNN x MLP: Same distributions (fail to reject H0). p-value: 0.07456201278798391\n",
      "DF x RF: Different distributions (reject H0). p-value: 0.0001806347208075351\n",
      "DF x MLP: Different distributions (reject H0). p-value: 0.00017661101166893502\n",
      "RF x MLP: Same distributions (fail to reject H0). p-value: 0.4263100165939262\n"
     ]
    }
   ],
   "source": [
    "import itertools\n",
    "\n",
    "for pair in itertools.combinations((clf_results), 2):\n",
    "    compare_samples(pair)"
   ]
  },
  {
   "cell_type": "markdown",
   "metadata": {},
   "source": [
    "#### The decision tree was the only classifier that showed a different distribution compared to the others, according to the statistical test."
   ]
  },
  {
   "cell_type": "markdown",
   "metadata": {},
   "source": [
    "### Analysis of Distribution of Results"
   ]
  },
  {
   "cell_type": "code",
   "execution_count": 65,
   "metadata": {},
   "outputs": [
    {
     "data": {
      "text/html": [
       "<div>\n",
       "<style scoped>\n",
       "    .dataframe tbody tr th:only-of-type {\n",
       "        vertical-align: middle;\n",
       "    }\n",
       "\n",
       "    .dataframe tbody tr th {\n",
       "        vertical-align: top;\n",
       "    }\n",
       "\n",
       "    .dataframe thead th {\n",
       "        text-align: right;\n",
       "    }\n",
       "</style>\n",
       "<table border=\"1\" class=\"dataframe\">\n",
       "  <thead>\n",
       "    <tr style=\"text-align: right;\">\n",
       "      <th></th>\n",
       "      <th>0</th>\n",
       "      <th>1</th>\n",
       "      <th>2</th>\n",
       "      <th>3</th>\n",
       "      <th>4</th>\n",
       "      <th>5</th>\n",
       "      <th>6</th>\n",
       "      <th>7</th>\n",
       "      <th>8</th>\n",
       "      <th>9</th>\n",
       "    </tr>\n",
       "  </thead>\n",
       "  <tbody>\n",
       "    <tr>\n",
       "      <th>KNN</th>\n",
       "      <td>0.998203</td>\n",
       "      <td>0.997305</td>\n",
       "      <td>0.995508</td>\n",
       "      <td>0.993711</td>\n",
       "      <td>0.994609</td>\n",
       "      <td>0.994609</td>\n",
       "      <td>0.997305</td>\n",
       "      <td>0.997305</td>\n",
       "      <td>0.995504</td>\n",
       "      <td>0.994604</td>\n",
       "    </tr>\n",
       "    <tr>\n",
       "      <th>DT</th>\n",
       "      <td>0.981132</td>\n",
       "      <td>0.980234</td>\n",
       "      <td>0.971249</td>\n",
       "      <td>0.957772</td>\n",
       "      <td>0.968553</td>\n",
       "      <td>0.964061</td>\n",
       "      <td>0.968553</td>\n",
       "      <td>0.969452</td>\n",
       "      <td>0.975719</td>\n",
       "      <td>0.968525</td>\n",
       "    </tr>\n",
       "    <tr>\n",
       "      <th>RF</th>\n",
       "      <td>0.992812</td>\n",
       "      <td>0.996406</td>\n",
       "      <td>0.992812</td>\n",
       "      <td>0.995508</td>\n",
       "      <td>0.991015</td>\n",
       "      <td>0.990117</td>\n",
       "      <td>0.994609</td>\n",
       "      <td>0.997305</td>\n",
       "      <td>0.987410</td>\n",
       "      <td>0.991906</td>\n",
       "    </tr>\n",
       "    <tr>\n",
       "      <th>MLP</th>\n",
       "      <td>0.997305</td>\n",
       "      <td>0.992812</td>\n",
       "      <td>0.992812</td>\n",
       "      <td>0.995508</td>\n",
       "      <td>0.995508</td>\n",
       "      <td>0.990117</td>\n",
       "      <td>0.993711</td>\n",
       "      <td>0.995508</td>\n",
       "      <td>0.994604</td>\n",
       "      <td>0.991906</td>\n",
       "    </tr>\n",
       "  </tbody>\n",
       "</table>\n",
       "</div>"
      ],
      "text/plain": [
       "            0         1         2         3         4         5         6  \\\n",
       "KNN  0.998203  0.997305  0.995508  0.993711  0.994609  0.994609  0.997305   \n",
       "DT   0.981132  0.980234  0.971249  0.957772  0.968553  0.964061  0.968553   \n",
       "RF   0.992812  0.996406  0.992812  0.995508  0.991015  0.990117  0.994609   \n",
       "MLP  0.997305  0.992812  0.992812  0.995508  0.995508  0.990117  0.993711   \n",
       "\n",
       "            7         8         9  \n",
       "KNN  0.997305  0.995504  0.994604  \n",
       "DT   0.969452  0.975719  0.968525  \n",
       "RF   0.997305  0.987410  0.991906  \n",
       "MLP  0.995508  0.994604  0.991906  "
      ]
     },
     "execution_count": 65,
     "metadata": {},
     "output_type": "execute_result"
    }
   ],
   "source": [
    "results = pd.DataFrame([knn_scores, tree_scores, forest_scores, mlp_scores])\n",
    "results.index = ['KNN', 'DT', 'RF', 'MLP']\n",
    "results"
   ]
  },
  {
   "cell_type": "code",
   "execution_count": 66,
   "metadata": {},
   "outputs": [
    {
     "data": {
      "image/png": "[encoded data removed]",
      "text/plain": [
       "<Figure size 1200x700 with 1 Axes>"
      ]
     },
     "metadata": {},
     "output_type": "display_data"
    }
   ],
   "source": [
    "fig, ax = plt.subplots(figsize=(12,7))\n",
    "\n",
    "ax.boxplot(results)\n",
    "plt.xticks([1, 2, 3, 4], ['KNN', 'DT', 'RF', 'MLP'])\n",
    "# plt.savefig('boxplot_results.png')\n",
    "plt.show()"
   ]
  },
  {
   "cell_type": "markdown",
   "metadata": {},
   "source": [
    "### Evaluation on the Training Set\n",
    "After conducting statistical tests and analyzing the results with a box plot, the KNN classifier was selected. This decision was based on it achieving the second highest mean accuracy and being simpler and faster compared to the other classifiers."
   ]
  },
  {
   "cell_type": "code",
   "execution_count": 67,
   "metadata": {},
   "outputs": [
    {
     "name": "stdout",
     "output_type": "stream",
     "text": [
      "Accuracy: 0.99676\n",
      "              precision    recall  f1-score   support\n",
      "\n",
      "         1.0       1.00      1.00      1.00       512\n",
      "         2.0       1.00      1.00      1.00       605\n",
      "         3.0       0.99      0.99      0.99       302\n",
      "         4.0       1.00      1.00      1.00       404\n",
      "         5.0       0.99      1.00      1.00       593\n",
      "         6.0       1.00      1.00      1.00       366\n",
      "\n",
      "    accuracy                           1.00      2782\n",
      "   macro avg       1.00      1.00      1.00      2782\n",
      "weighted avg       1.00      1.00      1.00      2782\n",
      "\n"
     ]
    },
    {
     "data": {
      "text/plain": [
       "<Axes: >"
      ]
     },
     "execution_count": 67,
     "metadata": {},
     "output_type": "execute_result"
    },
    {
     "data": {
      "image/png": "[encoded data removed]",
      "text/plain": [
       "<Figure size 1200x700 with 2 Axes>"
      ]
     },
     "metadata": {},
     "output_type": "display_data"
    }
   ],
   "source": [
    "knn = KNeighborsClassifier(n_neighbors=1, metric='manhattan')\n",
    "knn.fit(X_train, y_train)\n",
    "\n",
    "pred = knn.predict(X_test)\n",
    "\n",
    "print('Accuracy: %.5f' % accuracy_score(y_test, pred))\n",
    "print(classification_report(y_test, pred))\n",
    "\n",
    "sns.set(font_scale=1)\n",
    "fig, ax = plt.subplots(figsize=(12,7))\n",
    "sns.heatmap(confusion_matrix(y_test, pred), annot=True, cmap='Blues', ax=ax, fmt='d')\n",
    "# plt.savefig('confusion_matrix_voting.png')"
   ]
  },
  {
   "cell_type": "code",
   "execution_count": null,
   "metadata": {},
   "outputs": [],
   "source": []
  }
 ],
 "metadata": {
  "kernelspec": {
   "display_name": "Python 3",
   "language": "python",
   "name": "python3"
  },
  "language_info": {
   "codemirror_mode": {
    "name": "ipython",
    "version": 3
   },
   "file_extension": ".py",
   "mimetype": "text/x-python",
   "name": "python",
   "nbconvert_exporter": "python",
   "pygments_lexer": "ipython3",
   "version": "3.11.4"
  }
 },
 "nbformat": 4,
 "nbformat_minor": 2
}
