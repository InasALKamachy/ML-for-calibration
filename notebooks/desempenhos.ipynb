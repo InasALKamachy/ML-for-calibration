{
 "cells": [
  {
   "cell_type": "markdown",
   "metadata": {},
   "source": [
    "# Atividade 4"
   ]
  },
  {
   "cell_type": "code",
   "execution_count": 3,
   "metadata": {},
   "outputs": [],
   "source": [
    "import pandas as pd\n",
    "import numpy as np\n",
    "\n",
    "from sklearn.model_selection import train_test_split, cross_val_score, StratifiedKFold\n",
    "from sklearn.preprocessing import MinMaxScaler\n",
    "from sklearn.neighbors import KNeighborsClassifier\n",
    "from sklearn.tree import DecisionTreeClassifier\n",
    "from sklearn.ensemble import RandomForestClassifier, BaggingClassifier, VotingClassifier\n",
    "from sklearn.neural_network import MLPClassifier\n",
    "from sklearn.metrics import classification_report, accuracy_score, confusion_matrix\n",
    "\n",
    "from scipy.stats import kruskal\n",
    "from scipy.stats import shapiro\n",
    "from scipy.stats import mannwhitneyu\n",
    "\n",
    "import matplotlib.pyplot as plt\n",
    "import seaborn as sns"
   ]
  },
  {
   "cell_type": "code",
   "execution_count": 4,
   "metadata": {},
   "outputs": [],
   "source": [
    "from warnings import filterwarnings\n",
    "filterwarnings('ignore')"
   ]
  },
  {
   "cell_type": "code",
   "execution_count": 5,
   "metadata": {},
   "outputs": [],
   "source": [
    "seed = 20"
   ]
  },
  {
   "cell_type": "markdown",
   "metadata": {},
   "source": [
    "## Load and reading the data\n"
   ]
  },
  {
   "cell_type": "code",
   "execution_count": 6,
   "metadata": {},
   "outputs": [],
   "source": [
    "dataset = pd.read_csv('../Dataset/dataset.csv')"
   ]
  },
  {
   "cell_type": "code",
   "execution_count": 7,
   "metadata": {},
   "outputs": [
    {
     "data": {
      "text/plain": [
       "(13910, 49)"
      ]
     },
     "execution_count": 7,
     "metadata": {},
     "output_type": "execute_result"
    }
   ],
   "source": [
    "dataset.shape"
   ]
  },
  {
   "cell_type": "code",
   "execution_count": 14,
   "metadata": {},
   "outputs": [
    {
     "data": {
      "text/html": [
       "<div>\n",
       "<style scoped>\n",
       "    .dataframe tbody tr th:only-of-type {\n",
       "        vertical-align: middle;\n",
       "    }\n",
       "\n",
       "    .dataframe tbody tr th {\n",
       "        vertical-align: top;\n",
       "    }\n",
       "\n",
       "    .dataframe thead th {\n",
       "        text-align: right;\n",
       "    }\n",
       "</style>\n",
       "<table border=\"1\" class=\"dataframe\">\n",
       "  <thead>\n",
       "    <tr style=\"text-align: right;\">\n",
       "      <th></th>\n",
       "      <th>2</th>\n",
       "      <th>3</th>\n",
       "      <th>8</th>\n",
       "      <th>10</th>\n",
       "      <th>11</th>\n",
       "      <th>12</th>\n",
       "      <th>14</th>\n",
       "      <th>15</th>\n",
       "      <th>16</th>\n",
       "      <th>17</th>\n",
       "      <th>...</th>\n",
       "      <th>104</th>\n",
       "      <th>106</th>\n",
       "      <th>108</th>\n",
       "      <th>109</th>\n",
       "      <th>112</th>\n",
       "      <th>115</th>\n",
       "      <th>116</th>\n",
       "      <th>117</th>\n",
       "      <th>123</th>\n",
       "      <th>target</th>\n",
       "    </tr>\n",
       "  </thead>\n",
       "  <tbody>\n",
       "    <tr>\n",
       "      <th>0</th>\n",
       "      <td>-0.971612</td>\n",
       "      <td>-0.975257</td>\n",
       "      <td>-0.878662</td>\n",
       "      <td>-0.965510</td>\n",
       "      <td>-0.983235</td>\n",
       "      <td>-0.993018</td>\n",
       "      <td>0.890574</td>\n",
       "      <td>0.880771</td>\n",
       "      <td>-0.465786</td>\n",
       "      <td>-0.877256</td>\n",
       "      <td>...</td>\n",
       "      <td>-0.743961</td>\n",
       "      <td>-0.934288</td>\n",
       "      <td>-0.997376</td>\n",
       "      <td>0.896444</td>\n",
       "      <td>-0.794533</td>\n",
       "      <td>-0.983651</td>\n",
       "      <td>-0.989825</td>\n",
       "      <td>0.966286</td>\n",
       "      <td>-0.995176</td>\n",
       "      <td>1</td>\n",
       "    </tr>\n",
       "    <tr>\n",
       "      <th>1</th>\n",
       "      <td>-0.935227</td>\n",
       "      <td>-0.942549</td>\n",
       "      <td>-0.845751</td>\n",
       "      <td>-0.925464</td>\n",
       "      <td>-0.962950</td>\n",
       "      <td>-0.992955</td>\n",
       "      <td>0.874165</td>\n",
       "      <td>0.878272</td>\n",
       "      <td>-0.442325</td>\n",
       "      <td>-0.857819</td>\n",
       "      <td>...</td>\n",
       "      <td>-0.698075</td>\n",
       "      <td>-0.880229</td>\n",
       "      <td>-0.996559</td>\n",
       "      <td>0.831713</td>\n",
       "      <td>-0.772847</td>\n",
       "      <td>-0.963147</td>\n",
       "      <td>-0.986838</td>\n",
       "      <td>0.944955</td>\n",
       "      <td>-0.989122</td>\n",
       "      <td>1</td>\n",
       "    </tr>\n",
       "    <tr>\n",
       "      <th>2</th>\n",
       "      <td>-0.901866</td>\n",
       "      <td>-0.907260</td>\n",
       "      <td>-0.792863</td>\n",
       "      <td>-0.887649</td>\n",
       "      <td>-0.940908</td>\n",
       "      <td>-0.987755</td>\n",
       "      <td>0.851431</td>\n",
       "      <td>0.875730</td>\n",
       "      <td>-0.408138</td>\n",
       "      <td>-0.820204</td>\n",
       "      <td>...</td>\n",
       "      <td>-0.631462</td>\n",
       "      <td>-0.830596</td>\n",
       "      <td>-0.994756</td>\n",
       "      <td>0.753675</td>\n",
       "      <td>-0.741110</td>\n",
       "      <td>-0.943451</td>\n",
       "      <td>-0.980710</td>\n",
       "      <td>0.916558</td>\n",
       "      <td>-0.983409</td>\n",
       "      <td>1</td>\n",
       "    </tr>\n",
       "    <tr>\n",
       "      <th>3</th>\n",
       "      <td>-0.854993</td>\n",
       "      <td>-0.856440</td>\n",
       "      <td>-0.789712</td>\n",
       "      <td>-0.835088</td>\n",
       "      <td>-0.909435</td>\n",
       "      <td>-0.960526</td>\n",
       "      <td>0.849239</td>\n",
       "      <td>0.875197</td>\n",
       "      <td>-0.403969</td>\n",
       "      <td>-0.817050</td>\n",
       "      <td>...</td>\n",
       "      <td>-0.619449</td>\n",
       "      <td>-0.762374</td>\n",
       "      <td>-0.990916</td>\n",
       "      <td>0.733527</td>\n",
       "      <td>-0.736163</td>\n",
       "      <td>-0.918075</td>\n",
       "      <td>-0.972499</td>\n",
       "      <td>0.909554</td>\n",
       "      <td>-0.976055</td>\n",
       "      <td>1</td>\n",
       "    </tr>\n",
       "    <tr>\n",
       "      <th>4</th>\n",
       "      <td>-0.862880</td>\n",
       "      <td>-0.861308</td>\n",
       "      <td>-0.737248</td>\n",
       "      <td>-0.841656</td>\n",
       "      <td>-0.910599</td>\n",
       "      <td>-0.984466</td>\n",
       "      <td>0.824399</td>\n",
       "      <td>0.871636</td>\n",
       "      <td>-0.365080</td>\n",
       "      <td>-0.764633</td>\n",
       "      <td>...</td>\n",
       "      <td>-0.546051</td>\n",
       "      <td>-0.761545</td>\n",
       "      <td>-0.991147</td>\n",
       "      <td>0.654638</td>\n",
       "      <td>-0.699504</td>\n",
       "      <td>-0.911484</td>\n",
       "      <td>-0.970903</td>\n",
       "      <td>0.876089</td>\n",
       "      <td>-0.974309</td>\n",
       "      <td>1</td>\n",
       "    </tr>\n",
       "    <tr>\n",
       "      <th>...</th>\n",
       "      <td>...</td>\n",
       "      <td>...</td>\n",
       "      <td>...</td>\n",
       "      <td>...</td>\n",
       "      <td>...</td>\n",
       "      <td>...</td>\n",
       "      <td>...</td>\n",
       "      <td>...</td>\n",
       "      <td>...</td>\n",
       "      <td>...</td>\n",
       "      <td>...</td>\n",
       "      <td>...</td>\n",
       "      <td>...</td>\n",
       "      <td>...</td>\n",
       "      <td>...</td>\n",
       "      <td>...</td>\n",
       "      <td>...</td>\n",
       "      <td>...</td>\n",
       "      <td>...</td>\n",
       "      <td>...</td>\n",
       "      <td>...</td>\n",
       "    </tr>\n",
       "    <tr>\n",
       "      <th>95</th>\n",
       "      <td>-0.946706</td>\n",
       "      <td>-0.932957</td>\n",
       "      <td>-0.873721</td>\n",
       "      <td>-0.938451</td>\n",
       "      <td>-0.962299</td>\n",
       "      <td>-0.992792</td>\n",
       "      <td>0.884880</td>\n",
       "      <td>0.880957</td>\n",
       "      <td>0.294643</td>\n",
       "      <td>-0.024339</td>\n",
       "      <td>...</td>\n",
       "      <td>-0.135939</td>\n",
       "      <td>-0.422248</td>\n",
       "      <td>-0.967037</td>\n",
       "      <td>-0.018308</td>\n",
       "      <td>-0.214868</td>\n",
       "      <td>-0.544661</td>\n",
       "      <td>-0.854851</td>\n",
       "      <td>0.363187</td>\n",
       "      <td>-0.873369</td>\n",
       "      <td>2</td>\n",
       "    </tr>\n",
       "    <tr>\n",
       "      <th>96</th>\n",
       "      <td>-0.994720</td>\n",
       "      <td>-0.994527</td>\n",
       "      <td>-0.929540</td>\n",
       "      <td>-0.994186</td>\n",
       "      <td>-0.996791</td>\n",
       "      <td>-0.997667</td>\n",
       "      <td>0.908409</td>\n",
       "      <td>0.883439</td>\n",
       "      <td>-0.426661</td>\n",
       "      <td>-0.806778</td>\n",
       "      <td>...</td>\n",
       "      <td>-0.755168</td>\n",
       "      <td>-0.941171</td>\n",
       "      <td>-0.998061</td>\n",
       "      <td>0.900984</td>\n",
       "      <td>-0.768080</td>\n",
       "      <td>-0.980670</td>\n",
       "      <td>-0.992061</td>\n",
       "      <td>0.949840</td>\n",
       "      <td>-0.994572</td>\n",
       "      <td>2</td>\n",
       "    </tr>\n",
       "    <tr>\n",
       "      <th>97</th>\n",
       "      <td>-0.976168</td>\n",
       "      <td>-0.975877</td>\n",
       "      <td>-0.907919</td>\n",
       "      <td>-0.972291</td>\n",
       "      <td>-0.984901</td>\n",
       "      <td>-0.996116</td>\n",
       "      <td>0.899448</td>\n",
       "      <td>0.883022</td>\n",
       "      <td>-0.254420</td>\n",
       "      <td>-0.623236</td>\n",
       "      <td>...</td>\n",
       "      <td>-0.584054</td>\n",
       "      <td>-0.729721</td>\n",
       "      <td>-0.991249</td>\n",
       "      <td>0.672885</td>\n",
       "      <td>-0.624610</td>\n",
       "      <td>-0.865492</td>\n",
       "      <td>-0.958462</td>\n",
       "      <td>0.809255</td>\n",
       "      <td>-0.962514</td>\n",
       "      <td>2</td>\n",
       "    </tr>\n",
       "    <tr>\n",
       "      <th>98</th>\n",
       "      <td>-0.963723</td>\n",
       "      <td>-0.962578</td>\n",
       "      <td>-0.892026</td>\n",
       "      <td>-0.957197</td>\n",
       "      <td>-0.975432</td>\n",
       "      <td>-0.995320</td>\n",
       "      <td>0.892139</td>\n",
       "      <td>0.881712</td>\n",
       "      <td>-0.090277</td>\n",
       "      <td>-0.454887</td>\n",
       "      <td>...</td>\n",
       "      <td>-0.439259</td>\n",
       "      <td>-0.589123</td>\n",
       "      <td>-0.982806</td>\n",
       "      <td>0.475997</td>\n",
       "      <td>-0.496562</td>\n",
       "      <td>-0.731017</td>\n",
       "      <td>-0.916045</td>\n",
       "      <td>0.673837</td>\n",
       "      <td>-0.925752</td>\n",
       "      <td>2</td>\n",
       "    </tr>\n",
       "    <tr>\n",
       "      <th>99</th>\n",
       "      <td>-0.956778</td>\n",
       "      <td>-0.950115</td>\n",
       "      <td>-0.881930</td>\n",
       "      <td>-0.949081</td>\n",
       "      <td>-0.970889</td>\n",
       "      <td>-0.994452</td>\n",
       "      <td>0.888877</td>\n",
       "      <td>0.881519</td>\n",
       "      <td>0.047344</td>\n",
       "      <td>-0.297221</td>\n",
       "      <td>...</td>\n",
       "      <td>-0.329730</td>\n",
       "      <td>-0.527313</td>\n",
       "      <td>-0.975375</td>\n",
       "      <td>0.323813</td>\n",
       "      <td>-0.397868</td>\n",
       "      <td>-0.648121</td>\n",
       "      <td>-0.887586</td>\n",
       "      <td>0.570798</td>\n",
       "      <td>-0.902658</td>\n",
       "      <td>2</td>\n",
       "    </tr>\n",
       "  </tbody>\n",
       "</table>\n",
       "<p>100 rows × 49 columns</p>\n",
       "</div>"
      ],
      "text/plain": [
       "           2         3         8        10        11        12        14  \\\n",
       "0  -0.971612 -0.975257 -0.878662 -0.965510 -0.983235 -0.993018  0.890574   \n",
       "1  -0.935227 -0.942549 -0.845751 -0.925464 -0.962950 -0.992955  0.874165   \n",
       "2  -0.901866 -0.907260 -0.792863 -0.887649 -0.940908 -0.987755  0.851431   \n",
       "3  -0.854993 -0.856440 -0.789712 -0.835088 -0.909435 -0.960526  0.849239   \n",
       "4  -0.862880 -0.861308 -0.737248 -0.841656 -0.910599 -0.984466  0.824399   \n",
       "..       ...       ...       ...       ...       ...       ...       ...   \n",
       "95 -0.946706 -0.932957 -0.873721 -0.938451 -0.962299 -0.992792  0.884880   \n",
       "96 -0.994720 -0.994527 -0.929540 -0.994186 -0.996791 -0.997667  0.908409   \n",
       "97 -0.976168 -0.975877 -0.907919 -0.972291 -0.984901 -0.996116  0.899448   \n",
       "98 -0.963723 -0.962578 -0.892026 -0.957197 -0.975432 -0.995320  0.892139   \n",
       "99 -0.956778 -0.950115 -0.881930 -0.949081 -0.970889 -0.994452  0.888877   \n",
       "\n",
       "          15        16        17  ...       104       106       108       109  \\\n",
       "0   0.880771 -0.465786 -0.877256  ... -0.743961 -0.934288 -0.997376  0.896444   \n",
       "1   0.878272 -0.442325 -0.857819  ... -0.698075 -0.880229 -0.996559  0.831713   \n",
       "2   0.875730 -0.408138 -0.820204  ... -0.631462 -0.830596 -0.994756  0.753675   \n",
       "3   0.875197 -0.403969 -0.817050  ... -0.619449 -0.762374 -0.990916  0.733527   \n",
       "4   0.871636 -0.365080 -0.764633  ... -0.546051 -0.761545 -0.991147  0.654638   \n",
       "..       ...       ...       ...  ...       ...       ...       ...       ...   \n",
       "95  0.880957  0.294643 -0.024339  ... -0.135939 -0.422248 -0.967037 -0.018308   \n",
       "96  0.883439 -0.426661 -0.806778  ... -0.755168 -0.941171 -0.998061  0.900984   \n",
       "97  0.883022 -0.254420 -0.623236  ... -0.584054 -0.729721 -0.991249  0.672885   \n",
       "98  0.881712 -0.090277 -0.454887  ... -0.439259 -0.589123 -0.982806  0.475997   \n",
       "99  0.881519  0.047344 -0.297221  ... -0.329730 -0.527313 -0.975375  0.323813   \n",
       "\n",
       "         112       115       116       117       123  target  \n",
       "0  -0.794533 -0.983651 -0.989825  0.966286 -0.995176       1  \n",
       "1  -0.772847 -0.963147 -0.986838  0.944955 -0.989122       1  \n",
       "2  -0.741110 -0.943451 -0.980710  0.916558 -0.983409       1  \n",
       "3  -0.736163 -0.918075 -0.972499  0.909554 -0.976055       1  \n",
       "4  -0.699504 -0.911484 -0.970903  0.876089 -0.974309       1  \n",
       "..       ...       ...       ...       ...       ...     ...  \n",
       "95 -0.214868 -0.544661 -0.854851  0.363187 -0.873369       2  \n",
       "96 -0.768080 -0.980670 -0.992061  0.949840 -0.994572       2  \n",
       "97 -0.624610 -0.865492 -0.958462  0.809255 -0.962514       2  \n",
       "98 -0.496562 -0.731017 -0.916045  0.673837 -0.925752       2  \n",
       "99 -0.397868 -0.648121 -0.887586  0.570798 -0.902658       2  \n",
       "\n",
       "[100 rows x 49 columns]"
      ]
     },
     "execution_count": 14,
     "metadata": {},
     "output_type": "execute_result"
    }
   ],
   "source": [
    "dataset.head(100)"
   ]
  },
  {
   "cell_type": "markdown",
   "metadata": {},
   "source": [
    "## Seperate teh data into Features and Target"
   ]
  },
  {
   "cell_type": "code",
   "execution_count": 8,
   "metadata": {},
   "outputs": [],
   "source": [
    "X = dataset.drop('target', axis=1)\n",
    "y = dataset.loc[:,'target']"
   ]
  },
  {
   "cell_type": "code",
   "execution_count": 9,
   "metadata": {},
   "outputs": [
    {
     "data": {
      "text/plain": [
       "(13910, 48)"
      ]
     },
     "execution_count": 9,
     "metadata": {},
     "output_type": "execute_result"
    }
   ],
   "source": [
    "X.shape"
   ]
  },
  {
   "cell_type": "code",
   "execution_count": 10,
   "metadata": {},
   "outputs": [
    {
     "data": {
      "text/plain": [
       "(13910,)"
      ]
     },
     "execution_count": 10,
     "metadata": {},
     "output_type": "execute_result"
    }
   ],
   "source": [
    "y.shape"
   ]
  },
  {
   "cell_type": "markdown",
   "metadata": {},
   "source": [
    "### Separation of Data for Training and Testing with 80:20 ratio"
   ]
  },
  {
   "cell_type": "code",
   "execution_count": 11,
   "metadata": {},
   "outputs": [],
   "source": [
    "X_train, X_test, y_train, y_test = train_test_split(X, y, test_size=0.2, random_state=seed)"
   ]
  },
  {
   "cell_type": "markdown",
   "metadata": {},
   "source": [
    " ## please use the following parameter values in the training task:\n",
    "- â€¢\tfolds: 10\n",
    "- â€¢\tlog2c = -5, 10, 1\n",
    "- â€¢\tlog2g = -10, 5, 1\n",
    "- â€¢\tScale the features in the training set appropriately to lie between -1 and +1.\n",
    "- â€¢\tAnd use the following cross validation parameters:\n",
    "\n",
    "- Batch\tC\tGamma (É¤)\tRate\n",
    "- 1\t256.0\t0.03125\t        98.8764\n",
    "- 2\t64.0\t0.00390625\t99.7588\n",
    "- 3\t128.0\t0.03125\t        100.0\n",
    "- 4\t1.0\t0.25\t        100.0\n",
    "- 5\t2.0\t0.015625\t99.4924\n",
    "- 6\t256.0\t0.0009765625\t99.5217\n",
    "- 7\t64.0\t0.0625\t        99.9723\n",
    "- 8\t1024.0\t0.0078125\t99.6599\n",
    "- 9\t2.0\t0.00390625\t100.0"
   ]
  },
  {
   "cell_type": "markdown",
   "metadata": {},
   "source": [
    "## ML ALgorithms\n",
    "### 1- Linear Regression"
   ]
  },
  {
   "cell_type": "code",
   "execution_count": 15,
   "metadata": {},
   "outputs": [
    {
     "name": "stdout",
     "output_type": "stream",
     "text": [
      "Linear Regression MSE: 1119.2131005071146, Test MSE: 1.118631814569687\n"
     ]
    }
   ],
   "source": [
    "from sklearn.linear_model import LinearRegression\n",
    "from sklearn.model_selection import KFold, cross_val_score\n",
    "from sklearn.metrics import mean_squared_error\n",
    "\n",
    "\n",
    "# Initialize the model\n",
    "lr = LinearRegression()\n",
    "\n",
    "# 10-fold cross-validation\n",
    "kf = KFold(n_splits=10, shuffle=True, random_state=42)\n",
    "cv_results_lr = cross_val_score(lr, X_train, y_train, cv=kf, scoring='neg_mean_squared_error')\n",
    "\n",
    "# Train the model and evaluate\n",
    "lr.fit(X_train, y_train)\n",
    "y_pred_lr = lr.predict(X_test)\n",
    "mse_lr = mean_squared_error(y_test, y_pred_lr)\n",
    "\n",
    "print(f'Linear Regression MSE: {-np.mean(cv_results_lr)}, Test MSE: {mse_lr}')"
   ]
  },
  {
   "cell_type": "code",
   "execution_count": null,
   "metadata": {},
   "outputs": [],
   "source": []
  },
  {
   "cell_type": "markdown",
   "metadata": {},
   "source": [
    "## ML algorithms"
   ]
  },
  {
   "cell_type": "code",
   "execution_count": 12,
   "metadata": {},
   "outputs": [],
   "source": [
    "scoring = 'accuracy'\n",
    "cv = 10\n",
    "folds = StratifiedKFold(n_splits=cv, random_state=None)"
   ]
  },
  {
   "cell_type": "markdown",
   "metadata": {},
   "source": [
    "## 1. KNeighborsClassifier"
   ]
  },
  {
   "cell_type": "code",
   "execution_count": 33,
   "metadata": {},
   "outputs": [
    {
     "name": "stdout",
     "output_type": "stream",
     "text": [
      "[0.99820305 0.99730458 0.99550764 0.99371069 0.99460916 0.99460916\n",
      " 0.99730458 0.99730458 0.9955036  0.99460432]\n",
      "Mean: 0.99587, std: 0.00146\n"
     ]
    }
   ],
   "source": [
    "knn = KNeighborsClassifier(n_neighbors=1, metric='manhattan')\n",
    "knn_scores = cross_val_score(estimator=knn, X=X_train, y=y_train, cv=folds, scoring=scoring)\n",
    "print(knn_scores)\n",
    "print('Mean: %.5f, std: %.5f' % (np.mean(knn_scores), np.std(knn_scores)))"
   ]
  },
  {
   "cell_type": "markdown",
   "metadata": {},
   "source": [
    "### 2- RandomForestRegressor"
   ]
  },
  {
   "cell_type": "code",
   "execution_count": 16,
   "metadata": {},
   "outputs": [
    {
     "name": "stdout",
     "output_type": "stream",
     "text": [
      "Random Forest Regression MSE: 0.05367060694571028, Test MSE: 0.048464809489575836\n"
     ]
    }
   ],
   "source": [
    "from sklearn.ensemble import RandomForestRegressor\n",
    "\n",
    "# Initialize the model\n",
    "rf = RandomForestRegressor(n_estimators=100, random_state=42)\n",
    "\n",
    "# 10-fold cross-validation\n",
    "cv_results_rf = cross_val_score(rf, X_train, y_train, cv=kf, scoring='neg_mean_squared_error')\n",
    "\n",
    "# Train the model and evaluate\n",
    "rf.fit(X_train, y_train)\n",
    "y_pred_rf = rf.predict(X_test)\n",
    "mse_rf = mean_squared_error(y_test, y_pred_rf)\n",
    "\n",
    "print(f'Random Forest Regression MSE: {-np.mean(cv_results_rf)}, Test MSE: {mse_rf}')"
   ]
  },
  {
   "cell_type": "markdown",
   "metadata": {},
   "source": [
    "### 3- Support Vector Machine"
   ]
  },
  {
   "cell_type": "code",
   "execution_count": 18,
   "metadata": {},
   "outputs": [
    {
     "name": "stdout",
     "output_type": "stream",
     "text": [
      "SVR Best Params: (64.0, 0.0625), MSE: 0.2781289815698982, Test MSE: 0.2586769778714333\n"
     ]
    }
   ],
   "source": [
    "from sklearn.svm import SVR\n",
    "\n",
    "# Parameters for SVR based on the provided grid\n",
    "params = [\n",
    "    {'C': 2**np.arange(5, 11, 1), 'gamma': 2**np.arange(10, 6, 1)}\n",
    "]\n",
    "\n",
    "# Using the specified cross-validation parameters\n",
    "c_values = [256.0, 64.0, 128.0, 1.0, 2.0, 256.0, 64.0, 1024.0, 2.0]\n",
    "gamma_values = [0.03125, 0.00390625, 0.03125, 0.25, 0.05625, 0.0009765625, 0.0625, 0.0078125, 0.00390625]\n",
    "\n",
    "best_mse = float('inf')\n",
    "best_params = None\n",
    "\n",
    "# Train and evaluate SVR with each set of parameters\n",
    "for C, gamma in zip(c_values, gamma_values):\n",
    "    svr = SVR(C=C, gamma=gamma)\n",
    "    cv_results_svr = cross_val_score(svr, X_train, y_train, cv=kf, scoring='neg_mean_squared_error')\n",
    "    mean_mse = -np.mean(cv_results_svr)\n",
    "    if mean_mse < best_mse:\n",
    "        best_mse = mean_mse\n",
    "        best_params = (C, gamma)\n",
    "\n",
    "# Train the best model\n",
    "best_svr = SVR(C=best_params[0], gamma=best_params[1])\n",
    "best_svr.fit(X_train, y_train)\n",
    "y_pred_svr = best_svr.predict(X_test)\n",
    "mse_svr = mean_squared_error(y_test, y_pred_svr)\n",
    "\n",
    "print(f'SVR Best Params: {best_params}, MSE: {best_mse}, Test MSE: {mse_svr}')"
   ]
  },
  {
   "cell_type": "markdown",
   "metadata": {},
   "source": [
    "### 4- Neural Netwrok"
   ]
  },
  {
   "cell_type": "code",
   "execution_count": 19,
   "metadata": {},
   "outputs": [
    {
     "name": "stdout",
     "output_type": "stream",
     "text": [
      "Neural Networks MSE: 0.21252511418259132, Test MSE: 0.20415170612064665\n"
     ]
    }
   ],
   "source": [
    "from sklearn.neural_network import MLPRegressor\n",
    "\n",
    "# Initialize the model\n",
    "mlp = MLPRegressor(hidden_layer_sizes=(100,), max_iter=1000, random_state=42)\n",
    "\n",
    "# 10-fold cross-validation\n",
    "cv_results_mlp = cross_val_score(mlp, X_train, y_train, cv=kf, scoring='neg_mean_squared_error')\n",
    "\n",
    "# Train the model and evaluate\n",
    "mlp.fit(X_train, y_train)\n",
    "y_pred_mlp = mlp.predict(X_test)\n",
    "mse_mlp = mean_squared_error(y_test, y_pred_mlp)\n",
    "\n",
    "print(f'Neural Networks MSE: {-np.mean(cv_results_mlp)}, Test MSE: {mse_mlp}')"
   ]
  },
  {
   "cell_type": "markdown",
   "metadata": {},
   "source": [
    "## 5. XGboost "
   ]
  },
  {
   "cell_type": "code",
   "execution_count": 20,
   "metadata": {},
   "outputs": [
    {
     "name": "stdout",
     "output_type": "stream",
     "text": [
      "XGBoost Regression MSE: 0.06687355060278466, Test MSE: 0.061707100282901065\n"
     ]
    }
   ],
   "source": [
    "from xgboost import XGBRegressor\n",
    "\n",
    "# Initialize the model with hyperparameters (adjust these as needed)\n",
    "xgb_model = XGBRegressor(n_estimators=100, learning_rate=0.1, max_depth=5, random_state=42)\n",
    "\n",
    "# 10-fold cross-validation (same kf can be used)\n",
    "cv_results_xgb = cross_val_score(xgb_model, X_train, y_train, cv=kf, scoring='neg_mean_squared_error')\n",
    "\n",
    "# Train the model and evaluate\n",
    "xgb_model.fit(X_train, y_train)\n",
    "y_pred_xgb = xgb_model.predict(X_test)\n",
    "mse_xgb = mean_squared_error(y_test, y_pred_xgb)\n",
    "\n",
    "print(f'XGBoost Regression MSE: {-np.mean(cv_results_xgb)}, Test MSE: {mse_xgb}')"
   ]
  },
  {
   "cell_type": "code",
   "execution_count": null,
   "metadata": {},
   "outputs": [],
   "source": []
  },
  {
   "cell_type": "markdown",
   "metadata": {},
   "source": [
    "### Final Evaluation"
   ]
  },
  {
   "cell_type": "code",
   "execution_count": 22,
   "metadata": {},
   "outputs": [
    {
     "name": "stdout",
     "output_type": "stream",
     "text": [
      "Linear Regression: CV MSE = 1119.2131005071146, Test MSE = 1.118631814569687\n",
      "Random Forest: CV MSE = 0.05367060694571028, Test MSE = 0.048464809489575836\n",
      "SVR: CV MSE = 0.2781289815698982, Test MSE = 0.2586769778714333\n",
      "Neural Networks: CV MSE = 0.21252511418259132, Test MSE = 0.20415170612064665\n",
      "XGboost: CV MSE = 0.06687355060278466, Test MSE = 0.061707100282901065\n"
     ]
    },
    {
     "data": {
      "image/png": "[encoded data removed]",
      "text/plain": [
       "<Figure size 1000x600 with 1 Axes>"
      ]
     },
     "metadata": {},
     "output_type": "display_data"
    }
   ],
   "source": [
    "# Collecting all results\n",
    "results = {\n",
    "    'Linear Regression': {'CV MSE': -np.mean(cv_results_lr), 'Test MSE': mse_lr},\n",
    "    'Random Forest': {'CV MSE': -np.mean(cv_results_rf), 'Test MSE': mse_rf},\n",
    "    'SVR': {'CV MSE': best_mse, 'Test MSE': mse_svr},\n",
    "    'Neural Networks': {'CV MSE': -np.mean(cv_results_mlp), 'Test MSE': mse_mlp},\n",
    "    'XGboost': {'CV MSE': -np.mean(cv_results_xgb), 'Test MSE': mse_xgb}\n",
    "}\n",
    "\n",
    "# Print results\n",
    "for model, metrics in results.items():\n",
    "    print(f\"{model}: CV MSE = {metrics['CV MSE']}, Test MSE = {metrics['Test MSE']}\")\n",
    "\n",
    "# Assuming y_pred_rf is your predictions for Random Forest\n",
    "plt.figure(figsize=(10, 6))\n",
    "plt.scatter(y_test, y_pred_rf, alpha=0.6, label='Random Forest Predictions')\n",
    "plt.plot([y_test.min(), y_test.max()], [y_test.min(), y_test.max()], 'r--', lw=2)\n",
    "plt.xlabel('Actual')\n",
    "plt.ylabel('Predicted')\n",
    "plt.title('Actual vs Predicted Values (Random Forest)')\n",
    "plt.legend()\n",
    "plt.show()"
   ]
  },
  {
   "cell_type": "code",
   "execution_count": 47,
   "metadata": {},
   "outputs": [],
   "source": [
    "KNN_score = [0.99820305, 0.99730458, 0.99550764 ,0.99371069, 0.99460916, 0.99460916,\n",
    " 0.99730458, 0.99730458 ,0.9955036 , 0.99460432]"
   ]
  },
  {
   "cell_type": "markdown",
   "metadata": {},
   "source": [
    "### "
   ]
  },
  {
   "cell_type": "markdown",
   "metadata": {},
   "source": [
    "## 2. DecisionTreeClassifier"
   ]
  },
  {
   "cell_type": "code",
   "execution_count": 41,
   "metadata": {},
   "outputs": [
    {
     "name": "stdout",
     "output_type": "stream",
     "text": [
      "[0.98113208 0.9802336  0.97124888 0.95777179 0.96855346 0.9640611\n",
      " 0.96855346 0.96945193 0.97571942 0.96852518]\n",
      "Mean: 0.97053, std: 0.00672\n"
     ]
    }
   ],
   "source": [
    "tree = DecisionTreeClassifier(criterion='gini', max_depth=None, min_samples_split=2, random_state=seed)\n",
    "tree_scores = cross_val_score(estimator=tree, X=X_train, y=y_train, cv=folds, scoring=scoring)\n",
    "print(tree_scores)\n",
    "print('Mean: %.5f, std: %.5f' % (np.mean(tree_scores), np.std(tree_scores)))"
   ]
  },
  {
   "cell_type": "code",
   "execution_count": 46,
   "metadata": {},
   "outputs": [],
   "source": [
    "DT_score = [0.98113208 ,0.9802336 , 0.97124888 ,0.95777179 ,0.96855346 ,0.9640611,\n",
    " 0.96855346, 0.96945193, 0.97571942, 0.96852518]"
   ]
  },
  {
   "cell_type": "markdown",
   "metadata": {},
   "source": [
    "## 3. RandomForestClassifier"
   ]
  },
  {
   "cell_type": "code",
   "execution_count": 42,
   "metadata": {},
   "outputs": [
    {
     "name": "stdout",
     "output_type": "stream",
     "text": [
      "[0.99281222 0.99640611 0.99281222 0.99550764 0.99101527 0.9901168\n",
      " 0.99460916 0.99730458 0.98741007 0.99190647]\n",
      "Mean: 0.99299, std: 0.00289\n"
     ]
    }
   ],
   "source": [
    "forest = RandomForestClassifier(n_estimators=110, random_state=seed)\n",
    "forest_scores = cross_val_score(estimator=forest, X=X_train, y=y_train, cv=folds, scoring=scoring)\n",
    "print(forest_scores)\n",
    "print('Mean: %.5f, std: %.5f' % (np.mean(forest_scores), np.std(forest_scores)))"
   ]
  },
  {
   "cell_type": "code",
   "execution_count": 45,
   "metadata": {},
   "outputs": [],
   "source": [
    "RF_score  =[0.99281222 ,0.99640611, 0.99281222, 0.99550764 ,0.99101527, 0.9901168,0.99460916, 0.99730458, 0.98741007 ,0.99190647]\n"
   ]
  },
  {
   "cell_type": "markdown",
   "metadata": {},
   "source": [
    "## 4. MLPClassifier"
   ]
  },
  {
   "cell_type": "code",
   "execution_count": 43,
   "metadata": {},
   "outputs": [
    {
     "name": "stdout",
     "output_type": "stream",
     "text": [
      "[0.99730458 0.99281222 0.99281222 0.99550764 0.99550764 0.9901168\n",
      " 0.99371069 0.99550764 0.99460432 0.99190647]\n",
      "Mean: 0.99398, std: 0.00201\n"
     ]
    }
   ],
   "source": [
    "mlp = MLPClassifier(hidden_layer_sizes=(55, 55, 50), activation='tanh', solver='lbfgs', max_iter=2000, random_state=seed)\n",
    "mlp_scores = cross_val_score(estimator=mlp, X=X_train, y=y_train, cv=folds, scoring=scoring)\n",
    "print(mlp_scores)\n",
    "print('Mean: %.5f, std: %.5f' % (np.mean(mlp_scores), np.std(mlp_scores)))"
   ]
  },
  {
   "cell_type": "code",
   "execution_count": 44,
   "metadata": {},
   "outputs": [],
   "source": [
    "mlp_scores = [0.99730458, 0.99281222, 0.99281222, 0.99550764, 0.99550764, 0.9901168, 0.99371069, 0.99550764, 0.99460432, 0.99190647]\n"
   ]
  },
  {
   "cell_type": "markdown",
   "metadata": {},
   "source": [
    "## statistical test check if the samples follow a normal distribution"
   ]
  },
  {
   "cell_type": "code",
   "execution_count": 60,
   "metadata": {},
   "outputs": [],
   "source": [
    "def normality_test(sample, sample_name):\n",
    "    stat, p = shapiro(sample)\n",
    "    alpha = 0.05\n",
    "    if p > alpha:\n",
    "        print(sample_name + ': Normal distribution (fail to reject H0)')\n",
    "    else:\n",
    "        print(sample_name + ' No normal distribution (reject H0)')"
   ]
  },
  {
   "cell_type": "code",
   "execution_count": 61,
   "metadata": {},
   "outputs": [
    {
     "name": "stdout",
     "output_type": "stream",
     "text": [
      "KNN: Normal distribution (fail to reject H0)\n",
      "DF: Normal distribution (fail to reject H0)\n",
      "RF: Normal distribution (fail to reject H0)\n",
      "MLP: Normal distribution (fail to reject H0)\n"
     ]
    }
   ],
   "source": [
    "clf_results = [(knn_scores, 'KNN'), (tree_scores, 'DF'), (forest_scores, 'RF'), (mlp_scores, 'MLP')]\n",
    "\n",
    "for clf_result in clf_results:\n",
    "    normality_test(clf_result[0], clf_result[1])"
   ]
  },
  {
   "cell_type": "markdown",
   "metadata": {},
   "source": [
    "### Statistical test to compare all distributions\n",
    "Given that some samples do not follow the normal distribution, and their sizes (10 for each), the non-parametric Kruskal-Wallis test will be conducted to verify if the samples follow the same distribution"
   ]
  },
  {
   "cell_type": "code",
   "execution_count": 52,
   "metadata": {},
   "outputs": [
    {
     "name": "stdout",
     "output_type": "stream",
     "text": [
      "25.218386914833637 1.3899297618593223e-05\n",
      "Different distributions (reject H0)\n"
     ]
    }
   ],
   "source": [
    "stat, p = kruskal(knn_scores, tree_scores, forest_scores, mlp_scores)\n",
    "print(stat, p)\n",
    "alpha = 0.05\n",
    "\n",
    "if p > alpha:\n",
    "    print('Same distributions (fail to reject H0)')\n",
    "else:\n",
    "    print('Different distributions (reject H0)')"
   ]
  },
  {
   "cell_type": "markdown",
   "metadata": {},
   "source": [
    "\n",
    "## Pairwise Comparison\n",
    "The result of the statistical test indicates that the samples do not follow the same distribution. Pairwise tests will be conducted to identify which classifiers have different results based on the statistics, and then select the best one."
   ]
  },
  {
   "cell_type": "code",
   "execution_count": 62,
   "metadata": {},
   "outputs": [],
   "source": [
    "def compare_samples(pair):\n",
    "    sample_names = pair[0][1] + ' x ' + pair[1][1]\n",
    "    sample_1 = pair[0][0]\n",
    "    sample_2 = pair[1][0]\n",
    "    stat, p = mannwhitneyu(sample_1, sample_2)\n",
    "    alpha = 0.05\n",
    "    if p > alpha:\n",
    "        print(sample_names + ': Same distributions (fail to reject H0). p-value: ' + str(p))\n",
    "    else:\n",
    "        print(sample_names + ': Different distributions (reject H0). p-value: '+ str(p))"
   ]
  },
  {
   "cell_type": "code",
   "execution_count": 64,
   "metadata": {},
   "outputs": [
    {
     "name": "stdout",
     "output_type": "stream",
     "text": [
      "KNN x DF: Different distributions (reject H0). p-value: 0.00017661101166893502\n",
      "KNN x RF: Different distributions (reject H0). p-value: 0.036490193433198544\n",
      "KNN x MLP: Same distributions (fail to reject H0). p-value: 0.07456201278798391\n",
      "DF x RF: Different distributions (reject H0). p-value: 0.0001806347208075351\n",
      "DF x MLP: Different distributions (reject H0). p-value: 0.00017661101166893502\n",
      "RF x MLP: Same distributions (fail to reject H0). p-value: 0.4263100165939262\n"
     ]
    }
   ],
   "source": [
    "import itertools\n",
    "\n",
    "for pair in itertools.combinations((clf_results), 2):\n",
    "    compare_samples(pair)"
   ]
  },
  {
   "cell_type": "markdown",
   "metadata": {},
   "source": [
    "#### The decision tree was the only classifier that showed a different distribution compared to the others, according to the statistical test."
   ]
  },
  {
   "cell_type": "markdown",
   "metadata": {},
   "source": [
    "### Analysis of Distribution of Results"
   ]
  },
  {
   "cell_type": "code",
   "execution_count": 65,
   "metadata": {},
   "outputs": [
    {
     "data": {
      "text/html": [
       "<div>\n",
       "<style scoped>\n",
       "    .dataframe tbody tr th:only-of-type {\n",
       "        vertical-align: middle;\n",
       "    }\n",
       "\n",
       "    .dataframe tbody tr th {\n",
       "        vertical-align: top;\n",
       "    }\n",
       "\n",
       "    .dataframe thead th {\n",
       "        text-align: right;\n",
       "    }\n",
       "</style>\n",
       "<table border=\"1\" class=\"dataframe\">\n",
       "  <thead>\n",
       "    <tr style=\"text-align: right;\">\n",
       "      <th></th>\n",
       "      <th>0</th>\n",
       "      <th>1</th>\n",
       "      <th>2</th>\n",
       "      <th>3</th>\n",
       "      <th>4</th>\n",
       "      <th>5</th>\n",
       "      <th>6</th>\n",
       "      <th>7</th>\n",
       "      <th>8</th>\n",
       "      <th>9</th>\n",
       "    </tr>\n",
       "  </thead>\n",
       "  <tbody>\n",
       "    <tr>\n",
       "      <th>KNN</th>\n",
       "      <td>0.998203</td>\n",
       "      <td>0.997305</td>\n",
       "      <td>0.995508</td>\n",
       "      <td>0.993711</td>\n",
       "      <td>0.994609</td>\n",
       "      <td>0.994609</td>\n",
       "      <td>0.997305</td>\n",
       "      <td>0.997305</td>\n",
       "      <td>0.995504</td>\n",
       "      <td>0.994604</td>\n",
       "    </tr>\n",
       "    <tr>\n",
       "      <th>DT</th>\n",
       "      <td>0.981132</td>\n",
       "      <td>0.980234</td>\n",
       "      <td>0.971249</td>\n",
       "      <td>0.957772</td>\n",
       "      <td>0.968553</td>\n",
       "      <td>0.964061</td>\n",
       "      <td>0.968553</td>\n",
       "      <td>0.969452</td>\n",
       "      <td>0.975719</td>\n",
       "      <td>0.968525</td>\n",
       "    </tr>\n",
       "    <tr>\n",
       "      <th>RF</th>\n",
       "      <td>0.992812</td>\n",
       "      <td>0.996406</td>\n",
       "      <td>0.992812</td>\n",
       "      <td>0.995508</td>\n",
       "      <td>0.991015</td>\n",
       "      <td>0.990117</td>\n",
       "      <td>0.994609</td>\n",
       "      <td>0.997305</td>\n",
       "      <td>0.987410</td>\n",
       "      <td>0.991906</td>\n",
       "    </tr>\n",
       "    <tr>\n",
       "      <th>MLP</th>\n",
       "      <td>0.997305</td>\n",
       "      <td>0.992812</td>\n",
       "      <td>0.992812</td>\n",
       "      <td>0.995508</td>\n",
       "      <td>0.995508</td>\n",
       "      <td>0.990117</td>\n",
       "      <td>0.993711</td>\n",
       "      <td>0.995508</td>\n",
       "      <td>0.994604</td>\n",
       "      <td>0.991906</td>\n",
       "    </tr>\n",
       "  </tbody>\n",
       "</table>\n",
       "</div>"
      ],
      "text/plain": [
       "            0         1         2         3         4         5         6  \\\n",
       "KNN  0.998203  0.997305  0.995508  0.993711  0.994609  0.994609  0.997305   \n",
       "DT   0.981132  0.980234  0.971249  0.957772  0.968553  0.964061  0.968553   \n",
       "RF   0.992812  0.996406  0.992812  0.995508  0.991015  0.990117  0.994609   \n",
       "MLP  0.997305  0.992812  0.992812  0.995508  0.995508  0.990117  0.993711   \n",
       "\n",
       "            7         8         9  \n",
       "KNN  0.997305  0.995504  0.994604  \n",
       "DT   0.969452  0.975719  0.968525  \n",
       "RF   0.997305  0.987410  0.991906  \n",
       "MLP  0.995508  0.994604  0.991906  "
      ]
     },
     "execution_count": 65,
     "metadata": {},
     "output_type": "execute_result"
    }
   ],
   "source": [
    "results = pd.DataFrame([knn_scores, tree_scores, forest_scores, mlp_scores])\n",
    "results.index = ['KNN', 'DT', 'RF', 'MLP']\n",
    "results"
   ]
  },
  {
   "cell_type": "code",
   "execution_count": 66,
   "metadata": {},
   "outputs": [
    {
     "data": {
      "image/png": "[encoded data removed]",
      "text/plain": [
       "<Figure size 1200x700 with 1 Axes>"
      ]
     },
     "metadata": {},
     "output_type": "display_data"
    }
   ],
   "source": [
    "fig, ax = plt.subplots(figsize=(12,7))\n",
    "\n",
    "ax.boxplot(results)\n",
    "plt.xticks([1, 2, 3, 4], ['KNN', 'DT', 'RF', 'MLP'])\n",
    "# plt.savefig('boxplot_results.png')\n",
    "plt.show()"
   ]
  },
  {
   "cell_type": "markdown",
   "metadata": {},
   "source": [
    "### Evaluation on the Training Set\n",
    "After conducting statistical tests and analyzing the results with a box plot, the KNN classifier was selected. This decision was based on it achieving the second highest mean accuracy and being simpler and faster compared to the other classifiers."
   ]
  },
  {
   "cell_type": "code",
   "execution_count": 67,
   "metadata": {},
   "outputs": [
    {
     "name": "stdout",
     "output_type": "stream",
     "text": [
      "Accuracy: 0.99676\n",
      "              precision    recall  f1-score   support\n",
      "\n",
      "         1.0       1.00      1.00      1.00       512\n",
      "         2.0       1.00      1.00      1.00       605\n",
      "         3.0       0.99      0.99      0.99       302\n",
      "         4.0       1.00      1.00      1.00       404\n",
      "         5.0       0.99      1.00      1.00       593\n",
      "         6.0       1.00      1.00      1.00       366\n",
      "\n",
      "    accuracy                           1.00      2782\n",
      "   macro avg       1.00      1.00      1.00      2782\n",
      "weighted avg       1.00      1.00      1.00      2782\n",
      "\n"
     ]
    },
    {
     "data": {
      "text/plain": [
       "<Axes: >"
      ]
     },
     "execution_count": 67,
     "metadata": {},
     "output_type": "execute_result"
    },
    {
     "data": {
      "image/png": "[encoded data removed]",
      "text/plain": [
       "<Figure size 1200x700 with 2 Axes>"
      ]
     },
     "metadata": {},
     "output_type": "display_data"
    }
   ],
   "source": [
    "knn = KNeighborsClassifier(n_neighbors=1, metric='manhattan')\n",
    "knn.fit(X_train, y_train)\n",
    "\n",
    "pred = knn.predict(X_test)\n",
    "\n",
    "print('Accuracy: %.5f' % accuracy_score(y_test, pred))\n",
    "print(classification_report(y_test, pred))\n",
    "\n",
    "sns.set(font_scale=1)\n",
    "fig, ax = plt.subplots(figsize=(12,7))\n",
    "sns.heatmap(confusion_matrix(y_test, pred), annot=True, cmap='Blues', ax=ax, fmt='d')\n",
    "# plt.savefig('confusion_matrix_voting.png')"
   ]
  },
  {
   "cell_type": "code",
   "execution_count": null,
   "metadata": {},
   "outputs": [],
   "source": []
  }
 ],
 "metadata": {
  "kernelspec": {
   "display_name": "Python 3",
   "language": "python",
   "name": "python3"
  },
  "language_info": {
   "codemirror_mode": {
    "name": "ipython",
    "version": 3
   },
   "file_extension": ".py",
   "mimetype": "text/x-python",
   "name": "python",
   "nbconvert_exporter": "python",
   "pygments_lexer": "ipython3",
   "version": "3.11.4"
  }
 },
 "nbformat": 4,
 "nbformat_minor": 2
}
