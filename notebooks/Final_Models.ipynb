{
 "cells": [
  {
   "cell_type": "markdown",
   "metadata": {},
   "source": [
    "## Gas Sensor Array Drift - Modeling"
   ]
  },
  {
   "cell_type": "code",
   "execution_count": 103,
   "metadata": {},
   "outputs": [],
   "source": [
    "import pandas as pd\n",
    "import numpy as np\n",
    "\n",
    "from sklearn.datasets import load_svmlight_file\n",
    "from sklearn.model_selection import train_test_split, StratifiedKFold, cross_val_score\n",
    "\n",
    "from sklearn.neighbors import KNeighborsClassifier\n",
    "from sklearn.tree import DecisionTreeClassifier\n",
    "from sklearn.ensemble import RandomForestClassifier, BaggingClassifier, VotingClassifier\n",
    "from sklearn.neural_network import MLPClassifier\n",
    "from sklearn.model_selection import GridSearchCV\n",
    "from sklearn.neighbors import KNeighborsClassifier\n",
    "from sklearn.preprocessing import MinMaxScaler\n",
    "import time\n",
    "\n",
    "from sklearn.metrics import accuracy_score, classification_report\n",
    "\n",
    "import matplotlib.pyplot as plt\n"
   ]
  },
  {
   "cell_type": "code",
   "execution_count": 104,
   "metadata": {},
   "outputs": [],
   "source": [
    "seed = 10"
   ]
  },
  {
   "cell_type": "markdown",
   "metadata": {},
   "source": [
    "### Load the data"
   ]
  },
  {
   "cell_type": "code",
   "execution_count": 270,
   "metadata": {},
   "outputs": [],
   "source": [
    "dataset = pd.read_csv('dataset_Update.csv')"
   ]
  },
  {
   "cell_type": "code",
   "execution_count": 271,
   "metadata": {},
   "outputs": [
    {
     "data": {
      "text/html": [
       "<div>\n",
       "<style scoped>\n",
       "    .dataframe tbody tr th:only-of-type {\n",
       "        vertical-align: middle;\n",
       "    }\n",
       "\n",
       "    .dataframe tbody tr th {\n",
       "        vertical-align: top;\n",
       "    }\n",
       "\n",
       "    .dataframe thead th {\n",
       "        text-align: right;\n",
       "    }\n",
       "</style>\n",
       "<table border=\"1\" class=\"dataframe\">\n",
       "  <thead>\n",
       "    <tr style=\"text-align: right;\">\n",
       "      <th></th>\n",
       "      <th>count</th>\n",
       "      <th>mean</th>\n",
       "      <th>std</th>\n",
       "      <th>min</th>\n",
       "      <th>25%</th>\n",
       "      <th>50%</th>\n",
       "      <th>75%</th>\n",
       "      <th>max</th>\n",
       "    </tr>\n",
       "  </thead>\n",
       "  <tbody>\n",
       "    <tr>\n",
       "      <th>5</th>\n",
       "      <td>13910.0</td>\n",
       "      <td>0.860626</td>\n",
       "      <td>0.193857</td>\n",
       "      <td>-1.0</td>\n",
       "      <td>0.823641</td>\n",
       "      <td>0.949260</td>\n",
       "      <td>0.982944</td>\n",
       "      <td>1.0</td>\n",
       "    </tr>\n",
       "    <tr>\n",
       "      <th>8</th>\n",
       "      <td>13910.0</td>\n",
       "      <td>-0.716549</td>\n",
       "      <td>0.247125</td>\n",
       "      <td>-1.0</td>\n",
       "      <td>-0.886531</td>\n",
       "      <td>-0.792084</td>\n",
       "      <td>-0.666539</td>\n",
       "      <td>1.0</td>\n",
       "    </tr>\n",
       "    <tr>\n",
       "      <th>72</th>\n",
       "      <td>13910.0</td>\n",
       "      <td>-0.830847</td>\n",
       "      <td>0.191891</td>\n",
       "      <td>-1.0</td>\n",
       "      <td>-0.957677</td>\n",
       "      <td>-0.897835</td>\n",
       "      <td>-0.774411</td>\n",
       "      <td>1.0</td>\n",
       "    </tr>\n",
       "    <tr>\n",
       "      <th>2</th>\n",
       "      <td>13910.0</td>\n",
       "      <td>-0.845145</td>\n",
       "      <td>0.210798</td>\n",
       "      <td>-1.0</td>\n",
       "      <td>-0.980449</td>\n",
       "      <td>-0.940423</td>\n",
       "      <td>-0.794241</td>\n",
       "      <td>1.0</td>\n",
       "    </tr>\n",
       "    <tr>\n",
       "      <th>13</th>\n",
       "      <td>13910.0</td>\n",
       "      <td>0.766762</td>\n",
       "      <td>0.250268</td>\n",
       "      <td>-1.0</td>\n",
       "      <td>0.695296</td>\n",
       "      <td>0.844533</td>\n",
       "      <td>0.948475</td>\n",
       "      <td>1.0</td>\n",
       "    </tr>\n",
       "    <tr>\n",
       "      <th>7</th>\n",
       "      <td>13910.0</td>\n",
       "      <td>0.803146</td>\n",
       "      <td>0.147210</td>\n",
       "      <td>-1.0</td>\n",
       "      <td>0.815994</td>\n",
       "      <td>0.854705</td>\n",
       "      <td>0.864624</td>\n",
       "      <td>1.0</td>\n",
       "    </tr>\n",
       "    <tr>\n",
       "      <th>16</th>\n",
       "      <td>13910.0</td>\n",
       "      <td>-0.177983</td>\n",
       "      <td>0.244992</td>\n",
       "      <td>-1.0</td>\n",
       "      <td>-0.365460</td>\n",
       "      <td>-0.213577</td>\n",
       "      <td>-0.031182</td>\n",
       "      <td>1.0</td>\n",
       "    </tr>\n",
       "    <tr>\n",
       "      <th>64</th>\n",
       "      <td>13910.0</td>\n",
       "      <td>-0.782629</td>\n",
       "      <td>0.219460</td>\n",
       "      <td>-1.0</td>\n",
       "      <td>-0.943115</td>\n",
       "      <td>-0.840547</td>\n",
       "      <td>-0.704652</td>\n",
       "      <td>1.0</td>\n",
       "    </tr>\n",
       "    <tr>\n",
       "      <th>77</th>\n",
       "      <td>13910.0</td>\n",
       "      <td>0.851055</td>\n",
       "      <td>0.187107</td>\n",
       "      <td>-1.0</td>\n",
       "      <td>0.786508</td>\n",
       "      <td>0.923823</td>\n",
       "      <td>0.976793</td>\n",
       "      <td>1.0</td>\n",
       "    </tr>\n",
       "    <tr>\n",
       "      <th>122</th>\n",
       "      <td>13910.0</td>\n",
       "      <td>-0.556813</td>\n",
       "      <td>0.325995</td>\n",
       "      <td>-1.0</td>\n",
       "      <td>-0.810192</td>\n",
       "      <td>-0.639391</td>\n",
       "      <td>-0.365291</td>\n",
       "      <td>1.0</td>\n",
       "    </tr>\n",
       "    <tr>\n",
       "      <th>128</th>\n",
       "      <td>13910.0</td>\n",
       "      <td>3.387994</td>\n",
       "      <td>1.728602</td>\n",
       "      <td>1.0</td>\n",
       "      <td>2.000000</td>\n",
       "      <td>3.000000</td>\n",
       "      <td>5.000000</td>\n",
       "      <td>6.0</td>\n",
       "    </tr>\n",
       "  </tbody>\n",
       "</table>\n",
       "</div>"
      ],
      "text/plain": [
       "       count      mean       std  min       25%       50%       75%  max\n",
       "5    13910.0  0.860626  0.193857 -1.0  0.823641  0.949260  0.982944  1.0\n",
       "8    13910.0 -0.716549  0.247125 -1.0 -0.886531 -0.792084 -0.666539  1.0\n",
       "72   13910.0 -0.830847  0.191891 -1.0 -0.957677 -0.897835 -0.774411  1.0\n",
       "2    13910.0 -0.845145  0.210798 -1.0 -0.980449 -0.940423 -0.794241  1.0\n",
       "13   13910.0  0.766762  0.250268 -1.0  0.695296  0.844533  0.948475  1.0\n",
       "7    13910.0  0.803146  0.147210 -1.0  0.815994  0.854705  0.864624  1.0\n",
       "16   13910.0 -0.177983  0.244992 -1.0 -0.365460 -0.213577 -0.031182  1.0\n",
       "64   13910.0 -0.782629  0.219460 -1.0 -0.943115 -0.840547 -0.704652  1.0\n",
       "77   13910.0  0.851055  0.187107 -1.0  0.786508  0.923823  0.976793  1.0\n",
       "122  13910.0 -0.556813  0.325995 -1.0 -0.810192 -0.639391 -0.365291  1.0\n",
       "128  13910.0  3.387994  1.728602  1.0  2.000000  3.000000  5.000000  6.0"
      ]
     },
     "execution_count": 271,
     "metadata": {},
     "output_type": "execute_result"
    }
   ],
   "source": [
    "dataset.describe().T"
   ]
  },
  {
   "cell_type": "code",
   "execution_count": 272,
   "metadata": {},
   "outputs": [
    {
     "name": "stdout",
     "output_type": "stream",
     "text": [
      "(13910, 11)\n"
     ]
    }
   ],
   "source": [
    "# drop rows with missing values\n",
    "dataset.dropna(inplace=True)\n",
    "print(dataset.shape)"
   ]
  },
  {
   "cell_type": "code",
   "execution_count": 273,
   "metadata": {},
   "outputs": [
    {
     "data": {
      "text/plain": [
       "5      0\n",
       "8      0\n",
       "72     0\n",
       "2      0\n",
       "13     0\n",
       "7      0\n",
       "16     0\n",
       "64     0\n",
       "77     0\n",
       "122    0\n",
       "128    0\n",
       "dtype: int64"
      ]
     },
     "execution_count": 273,
     "metadata": {},
     "output_type": "execute_result"
    }
   ],
   "source": [
    "dataset.isnull().sum()"
   ]
  },
  {
   "cell_type": "code",
   "execution_count": 275,
   "metadata": {},
   "outputs": [
    {
     "name": "stdout",
     "output_type": "stream",
     "text": [
      "6\n"
     ]
    }
   ],
   "source": [
    "last_column = dataset.iloc[:, -1].nunique()\n",
    "print(last_column)"
   ]
  },
  {
   "cell_type": "code",
   "execution_count": 276,
   "metadata": {},
   "outputs": [
    {
     "name": "stdout",
     "output_type": "stream",
     "text": [
      "(13910, 11)\n"
     ]
    },
    {
     "data": {
      "text/html": [
       "<div>\n",
       "<style scoped>\n",
       "    .dataframe tbody tr th:only-of-type {\n",
       "        vertical-align: middle;\n",
       "    }\n",
       "\n",
       "    .dataframe tbody tr th {\n",
       "        vertical-align: top;\n",
       "    }\n",
       "\n",
       "    .dataframe thead th {\n",
       "        text-align: right;\n",
       "    }\n",
       "</style>\n",
       "<table border=\"1\" class=\"dataframe\">\n",
       "  <thead>\n",
       "    <tr style=\"text-align: right;\">\n",
       "      <th></th>\n",
       "      <th>5</th>\n",
       "      <th>8</th>\n",
       "      <th>72</th>\n",
       "      <th>2</th>\n",
       "      <th>13</th>\n",
       "      <th>7</th>\n",
       "      <th>16</th>\n",
       "      <th>64</th>\n",
       "      <th>77</th>\n",
       "      <th>122</th>\n",
       "      <th>128</th>\n",
       "    </tr>\n",
       "  </thead>\n",
       "  <tbody>\n",
       "    <tr>\n",
       "      <th>0</th>\n",
       "      <td>0.958387</td>\n",
       "      <td>-0.878662</td>\n",
       "      <td>-0.929810</td>\n",
       "      <td>-0.971612</td>\n",
       "      <td>0.944146</td>\n",
       "      <td>0.865034</td>\n",
       "      <td>-0.465786</td>\n",
       "      <td>-0.923203</td>\n",
       "      <td>0.945019</td>\n",
       "      <td>-0.967450</td>\n",
       "      <td>1</td>\n",
       "    </tr>\n",
       "    <tr>\n",
       "      <th>1</th>\n",
       "      <td>0.928190</td>\n",
       "      <td>-0.845751</td>\n",
       "      <td>-0.894518</td>\n",
       "      <td>-0.935227</td>\n",
       "      <td>0.905480</td>\n",
       "      <td>0.862033</td>\n",
       "      <td>-0.442325</td>\n",
       "      <td>-0.893253</td>\n",
       "      <td>0.906726</td>\n",
       "      <td>-0.939320</td>\n",
       "      <td>1</td>\n",
       "    </tr>\n",
       "    <tr>\n",
       "      <th>2</th>\n",
       "      <td>0.883323</td>\n",
       "      <td>-0.792863</td>\n",
       "      <td>-0.841604</td>\n",
       "      <td>-0.901866</td>\n",
       "      <td>0.849213</td>\n",
       "      <td>0.856738</td>\n",
       "      <td>-0.408138</td>\n",
       "      <td>-0.842800</td>\n",
       "      <td>0.849250</td>\n",
       "      <td>-0.912999</td>\n",
       "      <td>1</td>\n",
       "    </tr>\n",
       "    <tr>\n",
       "      <th>3</th>\n",
       "      <td>0.880565</td>\n",
       "      <td>-0.789712</td>\n",
       "      <td>-0.837996</td>\n",
       "      <td>-0.854993</td>\n",
       "      <td>0.844932</td>\n",
       "      <td>0.857085</td>\n",
       "      <td>-0.403969</td>\n",
       "      <td>-0.838813</td>\n",
       "      <td>0.844962</td>\n",
       "      <td>-0.877101</td>\n",
       "      <td>1</td>\n",
       "    </tr>\n",
       "    <tr>\n",
       "      <th>4</th>\n",
       "      <td>0.831314</td>\n",
       "      <td>-0.737248</td>\n",
       "      <td>-0.784567</td>\n",
       "      <td>-0.862880</td>\n",
       "      <td>0.784718</td>\n",
       "      <td>0.852045</td>\n",
       "      <td>-0.365080</td>\n",
       "      <td>-0.787939</td>\n",
       "      <td>0.782513</td>\n",
       "      <td>-0.876364</td>\n",
       "      <td>1</td>\n",
       "    </tr>\n",
       "  </tbody>\n",
       "</table>\n",
       "</div>"
      ],
      "text/plain": [
       "          5         8        72         2        13         7        16  \\\n",
       "0  0.958387 -0.878662 -0.929810 -0.971612  0.944146  0.865034 -0.465786   \n",
       "1  0.928190 -0.845751 -0.894518 -0.935227  0.905480  0.862033 -0.442325   \n",
       "2  0.883323 -0.792863 -0.841604 -0.901866  0.849213  0.856738 -0.408138   \n",
       "3  0.880565 -0.789712 -0.837996 -0.854993  0.844932  0.857085 -0.403969   \n",
       "4  0.831314 -0.737248 -0.784567 -0.862880  0.784718  0.852045 -0.365080   \n",
       "\n",
       "         64        77       122  128  \n",
       "0 -0.923203  0.945019 -0.967450    1  \n",
       "1 -0.893253  0.906726 -0.939320    1  \n",
       "2 -0.842800  0.849250 -0.912999    1  \n",
       "3 -0.838813  0.844962 -0.877101    1  \n",
       "4 -0.787939  0.782513 -0.876364    1  "
      ]
     },
     "execution_count": 276,
     "metadata": {},
     "output_type": "execute_result"
    }
   ],
   "source": [
    "print(dataset.shape)\n",
    "dataset.head()"
   ]
  },
  {
   "cell_type": "code",
   "execution_count": 277,
   "metadata": {},
   "outputs": [
    {
     "data": {
      "text/plain": [
       "Index(['5', '8', '72', '2', '13', '7', '16', '64', '77', '122', '128'], dtype='object')"
      ]
     },
     "execution_count": 277,
     "metadata": {},
     "output_type": "execute_result"
    }
   ],
   "source": [
    "dataset.columns"
   ]
  },
  {
   "cell_type": "markdown",
   "metadata": {},
   "source": [
    "## Correlation"
   ]
  },
  {
   "cell_type": "code",
   "execution_count": 278,
   "metadata": {},
   "outputs": [
    {
     "data": {
      "text/html": [
       "<div>\n",
       "<style scoped>\n",
       "    .dataframe tbody tr th:only-of-type {\n",
       "        vertical-align: middle;\n",
       "    }\n",
       "\n",
       "    .dataframe tbody tr th {\n",
       "        vertical-align: top;\n",
       "    }\n",
       "\n",
       "    .dataframe thead th {\n",
       "        text-align: right;\n",
       "    }\n",
       "</style>\n",
       "<table border=\"1\" class=\"dataframe\">\n",
       "  <thead>\n",
       "    <tr style=\"text-align: right;\">\n",
       "      <th></th>\n",
       "      <th>5</th>\n",
       "      <th>8</th>\n",
       "      <th>72</th>\n",
       "      <th>2</th>\n",
       "      <th>13</th>\n",
       "      <th>7</th>\n",
       "      <th>16</th>\n",
       "      <th>64</th>\n",
       "      <th>77</th>\n",
       "      <th>122</th>\n",
       "      <th>128</th>\n",
       "    </tr>\n",
       "  </thead>\n",
       "  <tbody>\n",
       "    <tr>\n",
       "      <th>5</th>\n",
       "      <td>1.000000</td>\n",
       "      <td>-0.849942</td>\n",
       "      <td>-0.871938</td>\n",
       "      <td>-0.944900</td>\n",
       "      <td>0.913765</td>\n",
       "      <td>0.730038</td>\n",
       "      <td>-0.375899</td>\n",
       "      <td>-0.848220</td>\n",
       "      <td>0.924203</td>\n",
       "      <td>-0.339167</td>\n",
       "      <td>-0.171022</td>\n",
       "    </tr>\n",
       "    <tr>\n",
       "      <th>8</th>\n",
       "      <td>-0.849942</td>\n",
       "      <td>1.000000</td>\n",
       "      <td>0.948527</td>\n",
       "      <td>0.908774</td>\n",
       "      <td>-0.924494</td>\n",
       "      <td>-0.673588</td>\n",
       "      <td>0.477190</td>\n",
       "      <td>0.974413</td>\n",
       "      <td>-0.861214</td>\n",
       "      <td>0.436841</td>\n",
       "      <td>0.350533</td>\n",
       "    </tr>\n",
       "    <tr>\n",
       "      <th>72</th>\n",
       "      <td>-0.871938</td>\n",
       "      <td>0.948527</td>\n",
       "      <td>1.000000</td>\n",
       "      <td>0.911381</td>\n",
       "      <td>-0.887320</td>\n",
       "      <td>-0.627280</td>\n",
       "      <td>0.450477</td>\n",
       "      <td>0.986257</td>\n",
       "      <td>-0.929002</td>\n",
       "      <td>0.432506</td>\n",
       "      <td>0.173878</td>\n",
       "    </tr>\n",
       "    <tr>\n",
       "      <th>2</th>\n",
       "      <td>-0.944900</td>\n",
       "      <td>0.908774</td>\n",
       "      <td>0.911381</td>\n",
       "      <td>1.000000</td>\n",
       "      <td>-0.869985</td>\n",
       "      <td>-0.682115</td>\n",
       "      <td>0.443285</td>\n",
       "      <td>0.902202</td>\n",
       "      <td>-0.860184</td>\n",
       "      <td>0.419206</td>\n",
       "      <td>0.206746</td>\n",
       "    </tr>\n",
       "    <tr>\n",
       "      <th>13</th>\n",
       "      <td>0.913765</td>\n",
       "      <td>-0.924494</td>\n",
       "      <td>-0.887320</td>\n",
       "      <td>-0.869985</td>\n",
       "      <td>1.000000</td>\n",
       "      <td>0.753186</td>\n",
       "      <td>-0.439279</td>\n",
       "      <td>-0.904952</td>\n",
       "      <td>0.941416</td>\n",
       "      <td>-0.411451</td>\n",
       "      <td>-0.277772</td>\n",
       "    </tr>\n",
       "    <tr>\n",
       "      <th>7</th>\n",
       "      <td>0.730038</td>\n",
       "      <td>-0.673588</td>\n",
       "      <td>-0.627280</td>\n",
       "      <td>-0.682115</td>\n",
       "      <td>0.753186</td>\n",
       "      <td>1.000000</td>\n",
       "      <td>-0.394256</td>\n",
       "      <td>-0.644648</td>\n",
       "      <td>0.698709</td>\n",
       "      <td>-0.380154</td>\n",
       "      <td>-0.193041</td>\n",
       "    </tr>\n",
       "    <tr>\n",
       "      <th>16</th>\n",
       "      <td>-0.375899</td>\n",
       "      <td>0.477190</td>\n",
       "      <td>0.450477</td>\n",
       "      <td>0.443285</td>\n",
       "      <td>-0.439279</td>\n",
       "      <td>-0.394256</td>\n",
       "      <td>1.000000</td>\n",
       "      <td>0.461459</td>\n",
       "      <td>-0.403999</td>\n",
       "      <td>0.922184</td>\n",
       "      <td>-0.196012</td>\n",
       "    </tr>\n",
       "    <tr>\n",
       "      <th>64</th>\n",
       "      <td>-0.848220</td>\n",
       "      <td>0.974413</td>\n",
       "      <td>0.986257</td>\n",
       "      <td>0.902202</td>\n",
       "      <td>-0.904952</td>\n",
       "      <td>-0.644648</td>\n",
       "      <td>0.461459</td>\n",
       "      <td>1.000000</td>\n",
       "      <td>-0.903980</td>\n",
       "      <td>0.453358</td>\n",
       "      <td>0.241435</td>\n",
       "    </tr>\n",
       "    <tr>\n",
       "      <th>77</th>\n",
       "      <td>0.924203</td>\n",
       "      <td>-0.861214</td>\n",
       "      <td>-0.929002</td>\n",
       "      <td>-0.860184</td>\n",
       "      <td>0.941416</td>\n",
       "      <td>0.698709</td>\n",
       "      <td>-0.403999</td>\n",
       "      <td>-0.903980</td>\n",
       "      <td>1.000000</td>\n",
       "      <td>-0.393382</td>\n",
       "      <td>-0.099466</td>\n",
       "    </tr>\n",
       "    <tr>\n",
       "      <th>122</th>\n",
       "      <td>-0.339167</td>\n",
       "      <td>0.436841</td>\n",
       "      <td>0.432506</td>\n",
       "      <td>0.419206</td>\n",
       "      <td>-0.411451</td>\n",
       "      <td>-0.380154</td>\n",
       "      <td>0.922184</td>\n",
       "      <td>0.453358</td>\n",
       "      <td>-0.393382</td>\n",
       "      <td>1.000000</td>\n",
       "      <td>-0.286350</td>\n",
       "    </tr>\n",
       "    <tr>\n",
       "      <th>128</th>\n",
       "      <td>-0.171022</td>\n",
       "      <td>0.350533</td>\n",
       "      <td>0.173878</td>\n",
       "      <td>0.206746</td>\n",
       "      <td>-0.277772</td>\n",
       "      <td>-0.193041</td>\n",
       "      <td>-0.196012</td>\n",
       "      <td>0.241435</td>\n",
       "      <td>-0.099466</td>\n",
       "      <td>-0.286350</td>\n",
       "      <td>1.000000</td>\n",
       "    </tr>\n",
       "  </tbody>\n",
       "</table>\n",
       "</div>"
      ],
      "text/plain": [
       "            5         8        72         2        13         7        16  \\\n",
       "5    1.000000 -0.849942 -0.871938 -0.944900  0.913765  0.730038 -0.375899   \n",
       "8   -0.849942  1.000000  0.948527  0.908774 -0.924494 -0.673588  0.477190   \n",
       "72  -0.871938  0.948527  1.000000  0.911381 -0.887320 -0.627280  0.450477   \n",
       "2   -0.944900  0.908774  0.911381  1.000000 -0.869985 -0.682115  0.443285   \n",
       "13   0.913765 -0.924494 -0.887320 -0.869985  1.000000  0.753186 -0.439279   \n",
       "7    0.730038 -0.673588 -0.627280 -0.682115  0.753186  1.000000 -0.394256   \n",
       "16  -0.375899  0.477190  0.450477  0.443285 -0.439279 -0.394256  1.000000   \n",
       "64  -0.848220  0.974413  0.986257  0.902202 -0.904952 -0.644648  0.461459   \n",
       "77   0.924203 -0.861214 -0.929002 -0.860184  0.941416  0.698709 -0.403999   \n",
       "122 -0.339167  0.436841  0.432506  0.419206 -0.411451 -0.380154  0.922184   \n",
       "128 -0.171022  0.350533  0.173878  0.206746 -0.277772 -0.193041 -0.196012   \n",
       "\n",
       "           64        77       122       128  \n",
       "5   -0.848220  0.924203 -0.339167 -0.171022  \n",
       "8    0.974413 -0.861214  0.436841  0.350533  \n",
       "72   0.986257 -0.929002  0.432506  0.173878  \n",
       "2    0.902202 -0.860184  0.419206  0.206746  \n",
       "13  -0.904952  0.941416 -0.411451 -0.277772  \n",
       "7   -0.644648  0.698709 -0.380154 -0.193041  \n",
       "16   0.461459 -0.403999  0.922184 -0.196012  \n",
       "64   1.000000 -0.903980  0.453358  0.241435  \n",
       "77  -0.903980  1.000000 -0.393382 -0.099466  \n",
       "122  0.453358 -0.393382  1.000000 -0.286350  \n",
       "128  0.241435 -0.099466 -0.286350  1.000000  "
      ]
     },
     "execution_count": 278,
     "metadata": {},
     "output_type": "execute_result"
    }
   ],
   "source": [
    "cor = dataset.corr()\n",
    "cor"
   ]
  },
  {
   "cell_type": "markdown",
   "metadata": {},
   "source": [
    "## Heatmap"
   ]
  },
  {
   "cell_type": "code",
   "execution_count": 279,
   "metadata": {},
   "outputs": [
    {
     "data": {
      "image/png": "[encoded data removed]",
      "text/plain": [
       "<Figure size 1200x1000 with 2 Axes>"
      ]
     },
     "metadata": {},
     "output_type": "display_data"
    }
   ],
   "source": [
    "import seaborn as sns\n",
    "import matplotlib.pyplot as plt\n",
    "\n",
    "plt.figure(figsize=(12, 10))  # Increase figure size for better readability\n",
    "sns.heatmap(cor, annot=True, cmap='seismic', fmt='.2f', annot_kws={\"size\": 8})  # Reduce annotation size\n",
    "plt.title('Correlation Heatmap', fontsize=12)  # Reduce title font size\n",
    "plt.show()\n"
   ]
  },
  {
   "cell_type": "code",
   "execution_count": 280,
   "metadata": {},
   "outputs": [
    {
     "name": "stdout",
     "output_type": "stream",
     "text": [
      "<class 'pandas.core.frame.DataFrame'>\n",
      "RangeIndex: 13910 entries, 0 to 13909\n",
      "Data columns (total 11 columns):\n",
      " #   Column  Non-Null Count  Dtype  \n",
      "---  ------  --------------  -----  \n",
      " 0   5       13910 non-null  float64\n",
      " 1   8       13910 non-null  float64\n",
      " 2   72      13910 non-null  float64\n",
      " 3   2       13910 non-null  float64\n",
      " 4   13      13910 non-null  float64\n",
      " 5   7       13910 non-null  float64\n",
      " 6   16      13910 non-null  float64\n",
      " 7   64      13910 non-null  float64\n",
      " 8   77      13910 non-null  float64\n",
      " 9   122     13910 non-null  float64\n",
      " 10  128     13910 non-null  int64  \n",
      "dtypes: float64(10), int64(1)\n",
      "memory usage: 1.2 MB\n"
     ]
    }
   ],
   "source": [
    "dataset.info()"
   ]
  },
  {
   "cell_type": "markdown",
   "metadata": {},
   "source": [
    "## Data Separation"
   ]
  },
  {
   "cell_type": "code",
   "execution_count": 281,
   "metadata": {},
   "outputs": [
    {
     "name": "stdout",
     "output_type": "stream",
     "text": [
      "Shape of X: (13910, 10)\n",
      "Shape of y: (13910,)\n"
     ]
    }
   ],
   "source": [
    "\n",
    "# Define X and y\n",
    "X = dataset.iloc[:, 1:]  # All columns except the first one\n",
    "y = dataset.iloc[:, 0]   # The first column\n",
    "\n",
    "# Verify the shapes of X and y\n",
    "print(\"Shape of X:\", X.shape)\n",
    "print(\"Shape of y:\", y.shape)"
   ]
  },
  {
   "cell_type": "code",
   "execution_count": 282,
   "metadata": {},
   "outputs": [
    {
     "data": {
      "text/plain": [
       "(13910, 10)"
      ]
     },
     "execution_count": 282,
     "metadata": {},
     "output_type": "execute_result"
    }
   ],
   "source": [
    "X.shape"
   ]
  },
  {
   "cell_type": "code",
   "execution_count": 283,
   "metadata": {},
   "outputs": [
    {
     "data": {
      "text/plain": [
       "(13910,)"
      ]
     },
     "execution_count": 283,
     "metadata": {},
     "output_type": "execute_result"
    }
   ],
   "source": [
    "y.shape"
   ]
  },
  {
   "cell_type": "code",
   "execution_count": 284,
   "metadata": {},
   "outputs": [
    {
     "data": {
      "text/html": [
       "<div>\n",
       "<style scoped>\n",
       "    .dataframe tbody tr th:only-of-type {\n",
       "        vertical-align: middle;\n",
       "    }\n",
       "\n",
       "    .dataframe tbody tr th {\n",
       "        vertical-align: top;\n",
       "    }\n",
       "\n",
       "    .dataframe thead th {\n",
       "        text-align: right;\n",
       "    }\n",
       "</style>\n",
       "<table border=\"1\" class=\"dataframe\">\n",
       "  <thead>\n",
       "    <tr style=\"text-align: right;\">\n",
       "      <th></th>\n",
       "      <th>8</th>\n",
       "      <th>72</th>\n",
       "      <th>2</th>\n",
       "      <th>13</th>\n",
       "      <th>7</th>\n",
       "      <th>16</th>\n",
       "      <th>64</th>\n",
       "      <th>77</th>\n",
       "      <th>122</th>\n",
       "      <th>128</th>\n",
       "    </tr>\n",
       "  </thead>\n",
       "  <tbody>\n",
       "    <tr>\n",
       "      <th>0</th>\n",
       "      <td>-0.878662</td>\n",
       "      <td>-0.92981</td>\n",
       "      <td>-0.971612</td>\n",
       "      <td>0.944146</td>\n",
       "      <td>0.865034</td>\n",
       "      <td>-0.465786</td>\n",
       "      <td>-0.923203</td>\n",
       "      <td>0.945019</td>\n",
       "      <td>-0.96745</td>\n",
       "      <td>1</td>\n",
       "    </tr>\n",
       "  </tbody>\n",
       "</table>\n",
       "</div>"
      ],
      "text/plain": [
       "          8       72         2        13         7        16        64  \\\n",
       "0 -0.878662 -0.92981 -0.971612  0.944146  0.865034 -0.465786 -0.923203   \n",
       "\n",
       "         77      122  128  \n",
       "0  0.945019 -0.96745    1  "
      ]
     },
     "execution_count": 284,
     "metadata": {},
     "output_type": "execute_result"
    }
   ],
   "source": [
    "X.head(1)"
   ]
  },
  {
   "cell_type": "code",
   "execution_count": 285,
   "metadata": {},
   "outputs": [
    {
     "data": {
      "text/plain": [
       "0    0.958387\n",
       "Name: 5, dtype: float64"
      ]
     },
     "execution_count": 285,
     "metadata": {},
     "output_type": "execute_result"
    }
   ],
   "source": [
    "y.head(1)"
   ]
  },
  {
   "cell_type": "code",
   "execution_count": 286,
   "metadata": {},
   "outputs": [],
   "source": [
    "X_train, X_test, y_train, y_test = train_test_split(X, y, test_size=0.20, random_state=7)"
   ]
  },
  {
   "cell_type": "code",
   "execution_count": 287,
   "metadata": {},
   "outputs": [
    {
     "data": {
      "text/plain": [
       "((11128, 10), (2782, 10))"
      ]
     },
     "execution_count": 287,
     "metadata": {},
     "output_type": "execute_result"
    }
   ],
   "source": [
    "X_train.shape, X_test.shape"
   ]
  },
  {
   "cell_type": "markdown",
   "metadata": {},
   "source": [
    "## Best Parameter Selection for ML ALgorithm /Regression\n"
   ]
  },
  {
   "cell_type": "code",
   "execution_count": 288,
   "metadata": {},
   "outputs": [],
   "source": [
    "kfold = StratifiedKFold(n_splits=10, random_state=20, shuffle=True)"
   ]
  },
  {
   "cell_type": "code",
   "execution_count": 289,
   "metadata": {},
   "outputs": [
    {
     "data": {
      "text/plain": [
       "(11128, 10)"
      ]
     },
     "execution_count": 289,
     "metadata": {},
     "output_type": "execute_result"
    }
   ],
   "source": [
    "X_train.shape"
   ]
  },
  {
   "cell_type": "code",
   "execution_count": 290,
   "metadata": {},
   "outputs": [
    {
     "data": {
      "text/plain": [
       "(11128,)"
      ]
     },
     "execution_count": 290,
     "metadata": {},
     "output_type": "execute_result"
    }
   ],
   "source": [
    "y_train.shape"
   ]
  },
  {
   "cell_type": "code",
   "execution_count": 291,
   "metadata": {},
   "outputs": [],
   "source": [
    "from sklearn.preprocessing import MinMaxScaler\n",
    "\n",
    "# Scale the features between -1 and 1\n",
    "scaler = MinMaxScaler(feature_range=(-1, 1))\n",
    "X_train_scaled = scaler.fit_transform(X_train)\n",
    "X_test_scaled = scaler.transform(X_test)"
   ]
  },
  {
   "cell_type": "code",
   "execution_count": 297,
   "metadata": {},
   "outputs": [
    {
     "name": "stdout",
     "output_type": "stream",
     "text": [
      "X_train_scaled shape: (11128, 10)\n",
      "X_test_scaled shape: (2782, 10)\n"
     ]
    }
   ],
   "source": [
    "# Verify shapes of scaled data\n",
    "print(f\"X_train_scaled shape: {X_train_scaled.shape}\")\n",
    "print(f\"X_test_scaled shape: {X_test_scaled.shape}\")"
   ]
  },
  {
   "cell_type": "markdown",
   "metadata": {},
   "source": [
    "## 1. MLP regression Model"
   ]
  },
  {
   "cell_type": "code",
   "execution_count": 293,
   "metadata": {},
   "outputs": [
    {
     "name": "stdout",
     "output_type": "stream",
     "text": [
      "Best parameters found: {'activation': 'relu', 'alpha': 0.0001, 'hidden_layer_sizes': (100, 100), 'learning_rate': 'constant'}\n"
     ]
    }
   ],
   "source": [
    "param_grid = {\n",
    "    'hidden_layer_sizes': [(50,), (100,), (100, 100)],  # Different hidden layer configurations\n",
    "    'activation': ['relu', 'tanh'],  # Activation functions to try\n",
    "    'alpha': [0.0001, 0.001, 0.01],   # Regularization parameter\n",
    "    'learning_rate': ['constant', 'adaptive'],  # Learning rate schedule\n",
    "}\n",
    "\n",
    "# Perform grid search with cross-validation (default 5 folds)\n",
    "mlp_regressor = MLPRegressor(max_iter=500, random_state=42)\n",
    "grid_search = GridSearchCV(mlp_regressor, param_grid, cv=10, scoring='r2', n_jobs=-1)\n",
    "grid_search.fit(X_train_scaled, y_train)\n",
    "\n",
    "# Get the best parameters\n",
    "best_params = grid_search.best_params_\n",
    "print(f\"Best parameters found: {best_params}\")"
   ]
  },
  {
   "cell_type": "code",
   "execution_count": 294,
   "metadata": {},
   "outputs": [
    {
     "name": "stdout",
     "output_type": "stream",
     "text": [
      "Inverse Model MSE: 0.0004\n",
      "Inverse Model R^2: 0.9886\n",
      "Time consumed for training: 0.671 seconds\n",
      "Time consumed for prediction: 0.00226 seconds\n"
     ]
    }
   ],
   "source": [
    "# Train the MLPRegressor model with the best parameters\n",
    "best_mlp_regressor = MLPRegressor(max_iter=500, random_state=42, **best_params)\n",
    "\n",
    "training_start = time.perf_counter()\n",
    "best_mlp_regressor.fit(X_train_scaled, y_train)\n",
    "training_end = time.perf_counter()\n",
    "\n",
    "# Evaluate the model\n",
    "prediction_start = time.perf_counter()\n",
    "y_pred_inverse = best_mlp_regressor.predict(X_test_scaled)\n",
    "prediction_end = time.perf_counter()\n",
    "\n",
    "mse_inverse = mean_squared_error(y_test, y_pred_inverse)\n",
    "r2_inverse = r2_score(y_test, y_pred_inverse)\n",
    "mlp_train_time = training_end - training_start\n",
    "mlp_prediction_time = prediction_end - prediction_start\n",
    "\n",
    "\n",
    "print(f\"Inverse Model MSE: {mse_inverse:.4f}\")\n",
    "print(f\"Inverse Model R^2: {r2_inverse:.4f}\")\n",
    "print(\"Time consumed for training: %4.3f seconds\" % (mlp_train_time))\n",
    "print(\"Time consumed for prediction: %6.5f seconds\" % (mlp_prediction_time))"
   ]
  },
  {
   "cell_type": "code",
   "execution_count": 314,
   "metadata": {},
   "outputs": [
    {
     "name": "stdout",
     "output_type": "stream",
     "text": [
      "Predicted True Measurements: [0.97314647]\n",
      "Actual Value: 0.9583867868533383\n"
     ]
    },
    {
     "name": "stderr",
     "output_type": "stream",
     "text": [
      "/opt/conda/lib/python3.11/site-packages/sklearn/base.py:493: UserWarning: X does not have valid feature names, but MinMaxScaler was fitted with feature names\n",
      "  warnings.warn(\n"
     ]
    }
   ],
   "source": [
    "import numpy as np\n",
    "\n",
    "# Assuming X_train, X_test, y_train, y_test are already defined and fitted\n",
    "# scaler and inverse_model are already fitted as per your previous steps\n",
    "\n",
    "# Define new sensor measurements\n",
    "new_sensor_measurements = np.array([[-0.8786617750623564,-0.9298098764878306,-0.971612294066858,0.9441460091933315,0.8650336288267729,-0.4657861086935119,\n",
    "-0.9232031210534897,0.9450192060341563,-0.9674504911637175,1]])\n",
    "new_sensor_measurements = new_sensor_measurements.reshape(1, -1)\n",
    "\n",
    "# Scale the new sensor measurements using the previously fitted scaler\n",
    "new_sensor_scaled = scaler.transform(new_sensor_measurements)\n",
    "\n",
    "# Predict the true measurements using the inverse model\n",
    "predicted_X = best_mlp_regressor.predict(new_sensor_scaled)\n",
    "\n",
    "print(\"Predicted True Measurements:\", predicted_X)\n",
    "print(\"Actual Value:\", 0.9583867868533383)"
   ]
  },
  {
   "cell_type": "code",
   "execution_count": 317,
   "metadata": {},
   "outputs": [
    {
     "data": {
      "image/png": "[encoded data removed]",
      "text/plain": [
       "<Figure size 800x600 with 1 Axes>"
      ]
     },
     "metadata": {},
     "output_type": "display_data"
    },
    {
     "name": "stdout",
     "output_type": "stream",
     "text": [
      "Predicted True Measurements: [0.97314647]\n",
      "Actual Value: 0.9583867868533383\n"
     ]
    }
   ],
   "source": [
    "# Actual value for comparison\n",
    "actual_value = 0.9583867868533383\n",
    "\n",
    "# Plotting predicted versus actual values\n",
    "plt.figure(figsize=(8, 6))\n",
    "plt.scatter(y_test, y_pred_inverse, color='blue', label='Predicted')\n",
    "plt.plot([y_test.min(), y_test.max()], [y_test.min(), y_test.max()], color='red', linestyle='--', label='Actual')\n",
    "plt.title('MLPRegressor: Predicted vs Actual')\n",
    "plt.xlabel('Actual True Measurements')\n",
    "plt.ylabel('Predicted True Measurements')\n",
    "plt.legend()\n",
    "plt.grid(True)\n",
    "plt.tight_layout()\n",
    "\n",
    "# Save the plot as 'best_model.png'\n",
    "plt.savefig('best_model.png')\n",
    "\n",
    "# Show the plot\n",
    "plt.show()\n",
    "\n",
    "print(\"Predicted True Measurements:\", predicted_X)\n",
    "print(\"Actual Value:\", actual_value)"
   ]
  },
  {
   "cell_type": "markdown",
   "metadata": {},
   "source": [
    "## 2. ElasticNet"
   ]
  },
  {
   "cell_type": "code",
   "execution_count": 300,
   "metadata": {},
   "outputs": [
    {
     "name": "stderr",
     "output_type": "stream",
     "text": [
      "/opt/conda/lib/python3.11/site-packages/sklearn/linear_model/_coordinate_descent.py:697: ConvergenceWarning: Objective did not converge. You might want to increase the number of iterations, check the scale of the features or consider increasing regularisation. Duality gap: 1.568e-01, tolerance: 3.846e-02\n",
      "  model = cd_fast.enet_coordinate_descent(\n",
      "/opt/conda/lib/python3.11/site-packages/sklearn/linear_model/_coordinate_descent.py:697: ConvergenceWarning: Objective did not converge. You might want to increase the number of iterations, check the scale of the features or consider increasing regularisation. Duality gap: 8.043e-02, tolerance: 3.826e-02\n",
      "  model = cd_fast.enet_coordinate_descent(\n",
      "/opt/conda/lib/python3.11/site-packages/sklearn/linear_model/_coordinate_descent.py:697: ConvergenceWarning: Objective did not converge. You might want to increase the number of iterations, check the scale of the features or consider increasing regularisation. Duality gap: 7.997e-02, tolerance: 3.819e-02\n",
      "  model = cd_fast.enet_coordinate_descent(\n",
      "/opt/conda/lib/python3.11/site-packages/sklearn/linear_model/_coordinate_descent.py:697: ConvergenceWarning: Objective did not converge. You might want to increase the number of iterations, check the scale of the features or consider increasing regularisation. Duality gap: 8.413e-02, tolerance: 3.887e-02\n",
      "  model = cd_fast.enet_coordinate_descent(\n",
      "/opt/conda/lib/python3.11/site-packages/sklearn/linear_model/_coordinate_descent.py:697: ConvergenceWarning: Objective did not converge. You might want to increase the number of iterations, check the scale of the features or consider increasing regularisation. Duality gap: 8.041e-02, tolerance: 3.897e-02\n",
      "  model = cd_fast.enet_coordinate_descent(\n",
      "/opt/conda/lib/python3.11/site-packages/sklearn/linear_model/_coordinate_descent.py:697: ConvergenceWarning: Objective did not converge. You might want to increase the number of iterations, check the scale of the features or consider increasing regularisation. Duality gap: 8.124e-02, tolerance: 3.921e-02\n",
      "  model = cd_fast.enet_coordinate_descent(\n",
      "/opt/conda/lib/python3.11/site-packages/sklearn/linear_model/_coordinate_descent.py:697: ConvergenceWarning: Objective did not converge. You might want to increase the number of iterations, check the scale of the features or consider increasing regularisation. Duality gap: 1.562e-01, tolerance: 3.963e-02\n",
      "  model = cd_fast.enet_coordinate_descent(\n",
      "/opt/conda/lib/python3.11/site-packages/sklearn/linear_model/_coordinate_descent.py:697: ConvergenceWarning: Objective did not converge. You might want to increase the number of iterations, check the scale of the features or consider increasing regularisation. Duality gap: 7.802e-02, tolerance: 3.839e-02\n",
      "  model = cd_fast.enet_coordinate_descent(\n"
     ]
    },
    {
     "name": "stdout",
     "output_type": "stream",
     "text": [
      "Best parameters found: {'alpha': 0.0001, 'l1_ratio': 0.1}\n"
     ]
    },
    {
     "name": "stderr",
     "output_type": "stream",
     "text": [
      "/opt/conda/lib/python3.11/site-packages/sklearn/linear_model/_coordinate_descent.py:697: ConvergenceWarning: Objective did not converge. You might want to increase the number of iterations, check the scale of the features or consider increasing regularisation. Duality gap: 8.092e-02, tolerance: 4.299e-02\n",
      "  model = cd_fast.enet_coordinate_descent(\n"
     ]
    }
   ],
   "source": [
    "param_grid_elasticnet = {\n",
    "    'alpha': [0.0001, 0.001, 0.01, 0.1, 1.0],  # Regularization parameter\n",
    "    'l1_ratio': [0.1, 0.3, 0.5, 0.7, 0.9],     # L1 ratio (0 for L2 regularization, 1 for L1 regularization)\n",
    "}\n",
    "\n",
    "# Perform grid search with cross-validation (default 5 folds)\n",
    "elasticnet_regressor = ElasticNet(random_state=42)\n",
    "grid_search_elasticnet = GridSearchCV(elasticnet_regressor, param_grid_elasticnet, cv=10, scoring='r2', n_jobs=-1)\n",
    "grid_search_elasticnet.fit(X_train_scaled, y_train)\n",
    "\n",
    "# Get the best parameters\n",
    "best_params_elasticnet = grid_search_elasticnet.best_params_\n",
    "print(f\"Best parameters found: {best_params_elasticnet}\")\n"
   ]
  },
  {
   "cell_type": "code",
   "execution_count": 301,
   "metadata": {},
   "outputs": [
    {
     "name": "stdout",
     "output_type": "stream",
     "text": [
      "ElasticNet Testing MSE: 0.0008\n",
      "ElasticNet Testing R^2: 0.9748\n",
      "ElasticNet Training Time: 0.0826 seconds\n",
      "ElasticNet Prediction Time: 0.00054 seconds\n"
     ]
    },
    {
     "name": "stderr",
     "output_type": "stream",
     "text": [
      "/opt/conda/lib/python3.11/site-packages/sklearn/linear_model/_coordinate_descent.py:697: ConvergenceWarning: Objective did not converge. You might want to increase the number of iterations, check the scale of the features or consider increasing regularisation. Duality gap: 8.092e-02, tolerance: 4.299e-02\n",
      "  model = cd_fast.enet_coordinate_descent(\n"
     ]
    }
   ],
   "source": [
    "best_elasticnet_regressor = ElasticNet(random_state=42, **best_params_elasticnet)\n",
    "\n",
    "training_start_elasticnet = time.perf_counter()\n",
    "best_elasticnet_regressor.fit(X_train_scaled, y_train)\n",
    "training_end_elasticnet = time.perf_counter()\n",
    "\n",
    "# Evaluate the model\n",
    "prediction_start_elasticnet = time.perf_counter()\n",
    "y_pred_test_elasticnet = best_elasticnet_regressor.predict(X_test_scaled)\n",
    "prediction_end_elasticnet = time.perf_counter()\n",
    "\n",
    "mse_test_elasticnet = mean_squared_error(y_test, y_pred_test_elasticnet)\n",
    "r2_test_elasticnet = r2_score(y_test, y_pred_test_elasticnet)\n",
    "elasticnet_train_time = training_end_elasticnet - training_start_elasticnet\n",
    "elasticnet_pred_time = prediction_end_elasticnet - prediction_start_elasticnet\n",
    "\n",
    "# Print evaluation metrics\n",
    "print(f\"ElasticNet Testing MSE: {mse_test_elasticnet:.4f}\")\n",
    "print(f\"ElasticNet Testing R^2: {r2_test_elasticnet:.4f}\")\n",
    "print(f\"ElasticNet Training Time: {elasticnet_train_time:.4f} seconds\")\n",
    "print(f\"ElasticNet Prediction Time: {elasticnet_pred_time:.5f} seconds\")\n"
   ]
  },
  {
   "cell_type": "code",
   "execution_count": 313,
   "metadata": {},
   "outputs": [
    {
     "name": "stdout",
     "output_type": "stream",
     "text": [
      "Predicted True Measurements: [0.95499576]\n",
      "Actual Value: 0.9583867868533383\n"
     ]
    },
    {
     "name": "stderr",
     "output_type": "stream",
     "text": [
      "/opt/conda/lib/python3.11/site-packages/sklearn/base.py:493: UserWarning: X does not have valid feature names, but MinMaxScaler was fitted with feature names\n",
      "  warnings.warn(\n"
     ]
    }
   ],
   "source": [
    "import numpy as np\n",
    "\n",
    "# Assuming X_train, X_test, y_train, y_test are already defined and fitted\n",
    "# scaler and inverse_model are already fitted as per your previous steps\n",
    "\n",
    "new_sensor_measurements = np.array([[-0.8786617750623564,-0.9298098764878306,-0.971612294066858,0.9441460091933315,0.8650336288267729,-0.4657861086935119,\n",
    "-0.9232031210534897,0.9450192060341563,-0.9674504911637175,1]])\n",
    "new_sensor_measurements = new_sensor_measurements.reshape(1, -1)\n",
    "\n",
    "\n",
    "# Scale the new sensor measurements using the previously fitted scaler\n",
    "new_sensor_scaled = scaler.transform(new_sensor_measurements)\n",
    "\n",
    "# Predict the true measurements using the inverse model\n",
    "predicted_X = best_elasticnet_regressor.predict(new_sensor_scaled)\n",
    "\n",
    "print(\"Predicted True Measurements:\", predicted_X)\n",
    "print(\"Actual Value:\", 0.9583867868533383)"
   ]
  },
  {
   "cell_type": "markdown",
   "metadata": {},
   "source": [
    "## 3. SVM"
   ]
  },
  {
   "cell_type": "code",
   "execution_count": 307,
   "metadata": {},
   "outputs": [
    {
     "data": {
      "text/plain": [
       "(11128, 10)"
      ]
     },
     "execution_count": 307,
     "metadata": {},
     "output_type": "execute_result"
    }
   ],
   "source": [
    "X_train_scaled.shape"
   ]
  },
  {
   "cell_type": "code",
   "execution_count": 308,
   "metadata": {},
   "outputs": [
    {
     "name": "stdout",
     "output_type": "stream",
     "text": [
      "Best parameters found: {'C': 512, 'gamma': 0.015625}\n"
     ]
    }
   ],
   "source": [
    "# Define the hyperparameter grid for grid search\n",
    "param_grid = {\n",
    "    'C': [2**i for i in range(-5, 11)],  # 2^-5 to 2^10\n",
    "    'gamma': [2**i for i in range(-10, 6)]  # 2^-10 to 2^5\n",
    "}\n",
    "\n",
    "# Perform grid search with cross-validation (10 folds)\n",
    "svr = SVR(kernel='rbf')\n",
    "grid_search = GridSearchCV(svr, param_grid, cv=10, scoring='r2', n_jobs=-1)\n",
    "\n",
    "grid_search.fit(X_train_scaled, y_train)\n",
    "\n",
    "# Get the best parameters\n",
    "best_params = grid_search.best_params_\n",
    "print(f\"Best parameters found: {best_params}\")"
   ]
  },
  {
   "cell_type": "code",
   "execution_count": 309,
   "metadata": {},
   "outputs": [
    {
     "name": "stdout",
     "output_type": "stream",
     "text": [
      "SVR Testing MSE: 0.0013\n",
      "SVR Testing R^2: 0.9611\n",
      "Time consumed for training: 0.258 seconds\n",
      "Time consumed for prediction: 0.00884 seconds\n"
     ]
    }
   ],
   "source": [
    "# Train the SVR model with the best parameters\n",
    "best_svr = SVR(kernel='rbf', C=512, gamma=0.015625)\n",
    "\n",
    "training_start = time.perf_counter()\n",
    "best_svr.fit(X_train_scaled, y_train)\n",
    "training_end = time.perf_counter()\n",
    "\n",
    "training_end = time.perf_counter()\n",
    "\n",
    "# Evaluate the model\n",
    "prediction_start = time.perf_counter()\n",
    "y_pred_test_svr = best_svr.predict(X_test_scaled)\n",
    "prediction_end = time.perf_counter()\n",
    "\n",
    "\n",
    "mse_test_svr = mean_squared_error(y_test, y_pred_test_svr)\n",
    "r2_test_svr = r2_score(y_test, y_pred_test_svr)\n",
    "svm_train_time = training_end - training_start\n",
    "svm_prediction_time = prediction_end - prediction_start\n",
    "\n",
    "print(f\"SVR Testing MSE: {mse_test_svr:.4f}\")\n",
    "print(f\"SVR Testing R^2: {r2_test_svr:.4f}\")\n",
    "print(\"Time consumed for training: %4.3f seconds\" % (svm_train_time))\n",
    "print(\"Time consumed for prediction: %6.5f seconds\" % (svm_prediction_time))"
   ]
  },
  {
   "cell_type": "code",
   "execution_count": 312,
   "metadata": {},
   "outputs": [
    {
     "name": "stdout",
     "output_type": "stream",
     "text": [
      "Predicted True Measurements: 0.9160786199210283\n",
      "Actual Value: 0.9583867868533383\n"
     ]
    },
    {
     "name": "stderr",
     "output_type": "stream",
     "text": [
      "/opt/conda/lib/python3.11/site-packages/sklearn/base.py:493: UserWarning: X does not have valid feature names, but MinMaxScaler was fitted with feature names\n",
      "  warnings.warn(\n"
     ]
    }
   ],
   "source": [
    "import numpy as np\n",
    "\n",
    "# Define new sensor measurements\n",
    "new_sensor_measurements = np.array([[-0.8786617750623564, -0.9298098764878306, -0.971612294066858, 0.9441460091933315,\n",
    "                                     0.8650336288267729, -0.4657861086935119, -0.9232031210534897, 0.9450192060341563,\n",
    "                                     -0.9674504911637175, 1]])\n",
    "\n",
    "# Reshape to ensure it's 2D\n",
    "new_sensor_measurements = new_sensor_measurements.reshape(1, -1)\n",
    "\n",
    "# Scale the new sensor measurements using the previously fitted scaler\n",
    "new_sensor_scaled = scaler.transform(new_sensor_measurements)\n",
    "\n",
    "# Predict the true measurements using the SVR model\n",
    "predicted_X = best_svr.predict(new_sensor_scaled)\n",
    "\n",
    "# Print predicted and actual values\n",
    "print(\"Predicted True Measurements:\", predicted_X[0])  # Assuming predicted_X is a single-element array\n",
    "print(\"Actual Value:\", 0.9583867868533383)  # Replace with your actual value if it varies\n",
    "\n"
   ]
  },
  {
   "cell_type": "markdown",
   "metadata": {},
   "source": [
    "## 4. Random Forest Regressor"
   ]
  },
  {
   "cell_type": "code",
   "execution_count": 319,
   "metadata": {},
   "outputs": [
    {
     "name": "stderr",
     "output_type": "stream",
     "text": [
      "/opt/conda/lib/python3.11/site-packages/joblib/externals/loky/process_executor.py:752: UserWarning: A worker stopped while some jobs were given to the executor. This can be caused by a too short worker timeout or by a memory leak.\n",
      "  warnings.warn(\n",
      "/opt/conda/lib/python3.11/site-packages/sklearn/model_selection/_validation.py:540: FitFailedWarning: \n",
      "1080 fits failed out of a total of 3240.\n",
      "The score on these train-test partitions for these parameters will be set to nan.\n",
      "If these failures are not expected, you can try to debug them by setting error_score='raise'.\n",
      "\n",
      "Below are more details about the failures:\n",
      "--------------------------------------------------------------------------------\n",
      "645 fits failed with the following error:\n",
      "Traceback (most recent call last):\n",
      "  File \"/opt/conda/lib/python3.11/site-packages/sklearn/model_selection/_validation.py\", line 888, in _fit_and_score\n",
      "    estimator.fit(X_train, y_train, **fit_params)\n",
      "  File \"/opt/conda/lib/python3.11/site-packages/sklearn/base.py\", line 1466, in wrapper\n",
      "    estimator._validate_params()\n",
      "  File \"/opt/conda/lib/python3.11/site-packages/sklearn/base.py\", line 666, in _validate_params\n",
      "    validate_parameter_constraints(\n",
      "  File \"/opt/conda/lib/python3.11/site-packages/sklearn/utils/_param_validation.py\", line 95, in validate_parameter_constraints\n",
      "    raise InvalidParameterError(\n",
      "sklearn.utils._param_validation.InvalidParameterError: The 'max_features' parameter of RandomForestRegressor must be an int in the range [1, inf), a float in the range (0.0, 1.0], a str among {'sqrt', 'log2'} or None. Got 'auto' instead.\n",
      "\n",
      "--------------------------------------------------------------------------------\n",
      "435 fits failed with the following error:\n",
      "Traceback (most recent call last):\n",
      "  File \"/opt/conda/lib/python3.11/site-packages/sklearn/model_selection/_validation.py\", line 888, in _fit_and_score\n",
      "    estimator.fit(X_train, y_train, **fit_params)\n",
      "  File \"/opt/conda/lib/python3.11/site-packages/sklearn/base.py\", line 1466, in wrapper\n",
      "    estimator._validate_params()\n",
      "  File \"/opt/conda/lib/python3.11/site-packages/sklearn/base.py\", line 666, in _validate_params\n",
      "    validate_parameter_constraints(\n",
      "  File \"/opt/conda/lib/python3.11/site-packages/sklearn/utils/_param_validation.py\", line 95, in validate_parameter_constraints\n",
      "    raise InvalidParameterError(\n",
      "sklearn.utils._param_validation.InvalidParameterError: The 'max_features' parameter of RandomForestRegressor must be an int in the range [1, inf), a float in the range (0.0, 1.0], a str among {'log2', 'sqrt'} or None. Got 'auto' instead.\n",
      "\n",
      "  warnings.warn(some_fits_failed_message, FitFailedWarning)\n",
      "/opt/conda/lib/python3.11/site-packages/sklearn/model_selection/_search.py:1052: UserWarning: One or more of the test scores are non-finite: [       nan        nan        nan        nan        nan        nan\n",
      "        nan        nan        nan        nan        nan        nan\n",
      "        nan        nan        nan        nan        nan        nan\n",
      "        nan        nan        nan        nan        nan        nan\n",
      "        nan        nan        nan 0.99416366 0.99439231 0.99437951\n",
      " 0.9941522  0.99429508 0.99434569 0.99369074 0.99385092 0.99390956\n",
      " 0.99399256 0.99420348 0.99424594 0.99403131 0.99418622 0.99417431\n",
      " 0.99358573 0.99376847 0.9937871  0.99346805 0.99359165 0.99363112\n",
      " 0.99346805 0.99359165 0.99363112 0.99331423 0.99344089 0.99344261\n",
      " 0.99416366 0.99439231 0.99437951 0.9941522  0.99429508 0.99434569\n",
      " 0.99369074 0.99385092 0.99390956 0.99399256 0.99420348 0.99424594\n",
      " 0.99403131 0.99418622 0.99417431 0.99358573 0.99376847 0.9937871\n",
      " 0.99346805 0.99359165 0.99363112 0.99346805 0.99359165 0.99363112\n",
      " 0.99331423 0.99344089 0.99344261        nan        nan        nan\n",
      "        nan        nan        nan        nan        nan        nan\n",
      "        nan        nan        nan        nan        nan        nan\n",
      "        nan        nan        nan        nan        nan        nan\n",
      "        nan        nan        nan        nan        nan        nan\n",
      " 0.99343663 0.99363368 0.99370161 0.99338581 0.99363787 0.99365127\n",
      " 0.99313235 0.99327465 0.9932294  0.99330522 0.99349046 0.99350438\n",
      " 0.99323722 0.9933788  0.99346096 0.9932136  0.99321879 0.99321652\n",
      " 0.99290836 0.99312166 0.99314798 0.99290836 0.99312166 0.99314798\n",
      " 0.99267691 0.99292818 0.99295237 0.99343663 0.99363368 0.99370161\n",
      " 0.99338581 0.99363787 0.99365127 0.99313235 0.99327465 0.9932294\n",
      " 0.99330522 0.99349046 0.99350438 0.99323722 0.9933788  0.99346096\n",
      " 0.9932136  0.99321879 0.99321652 0.99290836 0.99312166 0.99314798\n",
      " 0.99290836 0.99312166 0.99314798 0.99267691 0.99292818 0.99295237\n",
      "        nan        nan        nan        nan        nan        nan\n",
      "        nan        nan        nan        nan        nan        nan\n",
      "        nan        nan        nan        nan        nan        nan\n",
      "        nan        nan        nan        nan        nan        nan\n",
      "        nan        nan        nan 0.99414874 0.99432123 0.99438903\n",
      " 0.9941105  0.99432381 0.99429219 0.99378615 0.99382526 0.99385781\n",
      " 0.99400765 0.99424393 0.99424868 0.99396271 0.99414661 0.99418388\n",
      " 0.99361015 0.99370322 0.99375571 0.99339033 0.99353057 0.99361478\n",
      " 0.99339033 0.99353057 0.99361478 0.99338163 0.99348025 0.99348044\n",
      " 0.99414874 0.99432123 0.99438903 0.9941105  0.99432381 0.99429219\n",
      " 0.99378615 0.99382526 0.99385781 0.99400765 0.99424393 0.99424868\n",
      " 0.99396271 0.99414661 0.99418388 0.99361015 0.99370322 0.99375571\n",
      " 0.99339033 0.99353057 0.99361478 0.99339033 0.99353057 0.99361478\n",
      " 0.99338163 0.99348025 0.99348044        nan        nan        nan\n",
      "        nan        nan        nan        nan        nan        nan\n",
      "        nan        nan        nan        nan        nan        nan\n",
      "        nan        nan        nan        nan        nan        nan\n",
      "        nan        nan        nan        nan        nan        nan\n",
      " 0.99417968 0.99443939 0.99443819 0.99417375 0.99430108 0.99434194\n",
      " 0.99369117 0.99385836 0.99391566 0.99400805 0.99420863 0.99424316\n",
      " 0.99402977 0.99418468 0.99418004 0.99358367 0.99376749 0.9937865\n",
      " 0.99346805 0.99359165 0.99363144 0.99346805 0.99359165 0.99363144\n",
      " 0.99331423 0.99344089 0.9934434  0.99417968 0.99443939 0.99443819\n",
      " 0.99417375 0.99430108 0.99434194 0.99369117 0.99385836 0.99391566\n",
      " 0.99400805 0.99420863 0.99424316 0.99402977 0.99418468 0.99418004\n",
      " 0.99358367 0.99376749 0.9937865  0.99346805 0.99359165 0.99363144\n",
      " 0.99346805 0.99359165 0.99363144 0.99331423 0.99344089 0.9934434 ]\n",
      "  warnings.warn(\n"
     ]
    },
    {
     "name": "stdout",
     "output_type": "stream",
     "text": [
      "Best parameters found: {'max_depth': 30, 'max_features': 'sqrt', 'min_samples_leaf': 1, 'min_samples_split': 2, 'n_estimators': 100}\n"
     ]
    }
   ],
   "source": [
    "from sklearn.ensemble import RandomForestRegressor\n",
    "\n",
    "param_grid_rf = {\n",
    "    'n_estimators': [50, 100, 200],  # Number of trees in the forest\n",
    "    'max_depth': [None, 10, 20, 30],  # Maximum depth of the trees\n",
    "    'min_samples_split': [2, 5, 10],  # Minimum number of samples required to split an internal node\n",
    "    'min_samples_leaf': [1, 2, 4],    # Minimum number of samples required to be at a leaf node\n",
    "    'max_features': ['auto', 'sqrt', 'log2']  # Number of features to consider when looking for the best split\n",
    "}\n",
    "rf_regressor = RandomForestRegressor(random_state=42)\n",
    "grid_search_rf = GridSearchCV(rf_regressor, param_grid_rf, cv=10, scoring='r2', n_jobs=-1)\n",
    "grid_search_rf.fit(X_train_scaled, y_train)\n",
    "\n",
    "# Get the best parameters\n",
    "best_params_rf = grid_search_rf.best_params_\n",
    "print(f\"Best parameters found: {best_params_rf}\")\n",
    "\n",
    "# Initialize the best Random Forest regressor with the best parameters\n",
    "best_rf_regressor = RandomForestRegressor(random_state=42, **best_params_rf)\n"
   ]
  },
  {
   "cell_type": "code",
   "execution_count": 320,
   "metadata": {},
   "outputs": [
    {
     "name": "stdout",
     "output_type": "stream",
     "text": [
      "Random Forest Testing MSE: 0.0002\n",
      "Random Forest Testing R^2: 0.9943\n",
      "Random Forest Training Time: 3.0521 seconds\n",
      "Random Forest Prediction Time: 0.07438 seconds\n"
     ]
    }
   ],
   "source": [
    "training_start_rf = time.perf_counter()\n",
    "best_rf_regressor.fit(X_train_scaled, y_train)\n",
    "training_end_rf = time.perf_counter()\n",
    "\n",
    "# Evaluate the model\n",
    "prediction_start_rf = time.perf_counter()\n",
    "y_pred_test_rf = best_rf_regressor.predict(X_test_scaled)\n",
    "prediction_end_rf = time.perf_counter()\n",
    "\n",
    "mse_test_rf = mean_squared_error(y_test, y_pred_test_rf)\n",
    "r2_test_rf = r2_score(y_test, y_pred_test_rf)\n",
    "rf_train_time = training_end_rf - training_start_rf\n",
    "rf_pred_time = prediction_end_rf - prediction_start_rf\n",
    "\n",
    "# Print evaluation metrics\n",
    "print(f\"Random Forest Testing MSE: {mse_test_rf:.4f}\")\n",
    "print(f\"Random Forest Testing R^2: {r2_test_rf:.4f}\")\n",
    "print(f\"Random Forest Training Time: {rf_train_time:.4f} seconds\")\n",
    "print(f\"Random Forest Prediction Time: {rf_pred_time:.5f} seconds\")"
   ]
  },
  {
   "cell_type": "code",
   "execution_count": 321,
   "metadata": {},
   "outputs": [
    {
     "name": "stdout",
     "output_type": "stream",
     "text": [
      "Predicted True Measurements: 0.9635748277042498\n",
      "Actual Value: 0.9583867868533383\n"
     ]
    },
    {
     "name": "stderr",
     "output_type": "stream",
     "text": [
      "/opt/conda/lib/python3.11/site-packages/sklearn/base.py:493: UserWarning: X does not have valid feature names, but MinMaxScaler was fitted with feature names\n",
      "  warnings.warn(\n"
     ]
    }
   ],
   "source": [
    "import numpy as np\n",
    "\n",
    "# Define new sensor measurements\n",
    "new_sensor_measurements = np.array([[-0.8786617750623564, -0.9298098764878306, -0.971612294066858, 0.9441460091933315,\n",
    "                                     0.8650336288267729, -0.4657861086935119, -0.9232031210534897, 0.9450192060341563,\n",
    "                                     -0.9674504911637175, 1]])\n",
    "\n",
    "# Reshape to ensure it's 2D\n",
    "new_sensor_measurements = new_sensor_measurements.reshape(1, -1)\n",
    "\n",
    "# Scale the new sensor measurements using the previously fitted scaler\n",
    "new_sensor_scaled = scaler.transform(new_sensor_measurements)\n",
    "\n",
    "# Predict the true measurements using the SVR model\n",
    "predicted_X = best_rf_regressor.predict(new_sensor_scaled)\n",
    "\n",
    "# Print predicted and actual values\n",
    "print(\"Predicted True Measurements:\", predicted_X[0])  # Assuming predicted_X is a single-element array\n",
    "print(\"Actual Value:\", 0.9583867868533383)  # Replace with your actual value if it varies\n",
    "\n"
   ]
  },
  {
   "cell_type": "code",
   "execution_count": 322,
   "metadata": {},
   "outputs": [
    {
     "data": {
      "image/png": "[encoded data removed]",
      "text/plain": [
       "<Figure size 800x600 with 1 Axes>"
      ]
     },
     "metadata": {},
     "output_type": "display_data"
    },
    {
     "name": "stdout",
     "output_type": "stream",
     "text": [
      "Predicted True Measurements: [0.96357483]\n",
      "Actual Value: 0.9583867868533383\n"
     ]
    }
   ],
   "source": [
    "# Actual value for comparison\n",
    "actual_value = 0.9583867868533383\n",
    "\n",
    "# Plotting predicted versus actual values\n",
    "plt.figure(figsize=(8, 6))\n",
    "plt.scatter(y_test, y_pred_inverse, color='blue', label='Predicted')\n",
    "plt.plot([y_test.min(), y_test.max()], [y_test.min(), y_test.max()], color='red', linestyle='--', label='Actual')\n",
    "plt.title('MLPRegressor: Predicted vs Actual')\n",
    "plt.xlabel('Actual True Measurements')\n",
    "plt.ylabel('Predicted True Measurements')\n",
    "plt.legend()\n",
    "plt.grid(True)\n",
    "plt.tight_layout()\n",
    "\n",
    "# Save the plot as 'best_model.png'\n",
    "plt.savefig('best_model.png')\n",
    "\n",
    "# Show the plot\n",
    "plt.show()\n",
    "\n",
    "print(\"Predicted True Measurements:\", predicted_X)\n",
    "print(\"Actual Value:\", actual_value)"
   ]
  },
  {
   "cell_type": "markdown",
   "metadata": {},
   "source": [
    "## Report"
   ]
  },
  {
   "cell_type": "markdown",
   "metadata": {},
   "source": [
    "| Model           | MSE    | R^2    | Training Time (s) | Prediction Time (s) | Predicted True Measurements |\n",
    "|-----------------|--------|--------|--------------------|----------------------|-----------------------------|\n",
    "| MLP Regression  | 0.0004 | 0.9886 | 0.671              | 0.00226              | 0.97314647                  |\n",
    "| ElasticNet      | 0.0008 | 0.9748 | 0.0826             | 0.00054              | 0.95499576                  |\n",
    "| SVR             | 0.0013 | 0.9611 | 0.258              | 0.00884              | 0.91607862 \n",
    "|RandomForestRegre| 0.0002 |0.9943  | 3.0521             | 0.07438              | 0.96357482                  |\n"
   ]
  },
  {
   "cell_type": "code",
   "execution_count": null,
   "metadata": {},
   "outputs": [],
   "source": []
  },
  {
   "cell_type": "code",
   "execution_count": null,
   "metadata": {},
   "outputs": [],
   "source": []
  }
 ],
 "metadata": {
  "kernelspec": {
   "display_name": "Python 3 (ipykernel)",
   "language": "python",
   "name": "python3"
  },
  "language_info": {
   "codemirror_mode": {
    "name": "ipython",
    "version": 3
   },
   "file_extension": ".py",
   "mimetype": "text/x-python",
   "name": "python",
   "nbconvert_exporter": "python",
   "pygments_lexer": "ipython3",
   "version": "3.11.9"
  }
 },
 "nbformat": 4,
 "nbformat_minor": 4
}
