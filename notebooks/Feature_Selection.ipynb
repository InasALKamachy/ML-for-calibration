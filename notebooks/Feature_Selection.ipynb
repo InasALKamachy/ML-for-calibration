{
 "cells": [
  {
   "cell_type": "markdown",
   "metadata": {},
   "source": [
    "## Gas Sensor Array Drift - Pré-processamento"
   ]
  },
  {
   "cell_type": "code",
   "execution_count": 53,
   "metadata": {},
   "outputs": [],
   "source": [
    "import pandas as pd\n",
    "import numpy as np\n",
    "from sklearn.datasets import load_svmlight_file\n",
    "\n",
    "from sklearn.decomposition import PCA\n",
    "from sklearn.preprocessing import MinMaxScaler, StandardScaler\n",
    "\n",
    "import matplotlib.pyplot as plt"
   ]
  },
  {
   "cell_type": "markdown",
   "metadata": {},
   "source": [
    "### Data Reading "
   ]
  },
  {
   "cell_type": "code",
   "execution_count": 54,
   "metadata": {},
   "outputs": [],
   "source": [
    "list_features = []\n",
    "list_targets = []\n",
    "for i in range(1, 11):\n",
    "    X, y = load_svmlight_file(f='../Dataset/batch' + str(i) + '.dat', dtype=np.float64)\n",
    "    X = pd.DataFrame(X.toarray())\n",
    "    y = pd.Series(y)\n",
    "    \n",
    "    list_features.append(X)\n",
    "    list_targets.append(y)\n",
    "    \n",
    "X = pd.concat(list_features, ignore_index=True)\n",
    "y = pd.concat(list_targets, ignore_index=True)"
   ]
  },
  {
   "cell_type": "code",
   "execution_count": 55,
   "metadata": {},
   "outputs": [
    {
     "name": "stdout",
     "output_type": "stream",
     "text": [
      "(13910, 128)\n"
     ]
    },
    {
     "data": {
      "text/html": [
       "<div>\n",
       "<style scoped>\n",
       "    .dataframe tbody tr th:only-of-type {\n",
       "        vertical-align: middle;\n",
       "    }\n",
       "\n",
       "    .dataframe tbody tr th {\n",
       "        vertical-align: top;\n",
       "    }\n",
       "\n",
       "    .dataframe thead th {\n",
       "        text-align: right;\n",
       "    }\n",
       "</style>\n",
       "<table border=\"1\" class=\"dataframe\">\n",
       "  <thead>\n",
       "    <tr style=\"text-align: right;\">\n",
       "      <th></th>\n",
       "      <th>0</th>\n",
       "      <th>1</th>\n",
       "      <th>2</th>\n",
       "      <th>3</th>\n",
       "      <th>4</th>\n",
       "      <th>5</th>\n",
       "      <th>6</th>\n",
       "      <th>7</th>\n",
       "      <th>8</th>\n",
       "      <th>9</th>\n",
       "      <th>...</th>\n",
       "      <th>118</th>\n",
       "      <th>119</th>\n",
       "      <th>120</th>\n",
       "      <th>121</th>\n",
       "      <th>122</th>\n",
       "      <th>123</th>\n",
       "      <th>124</th>\n",
       "      <th>125</th>\n",
       "      <th>126</th>\n",
       "      <th>127</th>\n",
       "    </tr>\n",
       "  </thead>\n",
       "  <tbody>\n",
       "    <tr>\n",
       "      <th>0</th>\n",
       "      <td>15596.1621</td>\n",
       "      <td>1.868245</td>\n",
       "      <td>2.371604</td>\n",
       "      <td>2.803678</td>\n",
       "      <td>7.512213</td>\n",
       "      <td>-2.739388</td>\n",
       "      <td>-3.344671</td>\n",
       "      <td>-4.847512</td>\n",
       "      <td>15326.6914</td>\n",
       "      <td>1.768526</td>\n",
       "      <td>...</td>\n",
       "      <td>-1.071137</td>\n",
       "      <td>-3.037772</td>\n",
       "      <td>3037.0390</td>\n",
       "      <td>3.972203</td>\n",
       "      <td>0.527291</td>\n",
       "      <td>0.728443</td>\n",
       "      <td>1.445783</td>\n",
       "      <td>-0.545079</td>\n",
       "      <td>-0.902241</td>\n",
       "      <td>-2.654529</td>\n",
       "    </tr>\n",
       "    <tr>\n",
       "      <th>1</th>\n",
       "      <td>26402.0704</td>\n",
       "      <td>2.532401</td>\n",
       "      <td>5.411209</td>\n",
       "      <td>6.509906</td>\n",
       "      <td>7.658469</td>\n",
       "      <td>-4.722217</td>\n",
       "      <td>-5.817651</td>\n",
       "      <td>-7.518333</td>\n",
       "      <td>23855.7812</td>\n",
       "      <td>2.164706</td>\n",
       "      <td>...</td>\n",
       "      <td>-1.530519</td>\n",
       "      <td>-1.994993</td>\n",
       "      <td>4176.4453</td>\n",
       "      <td>4.281373</td>\n",
       "      <td>0.980205</td>\n",
       "      <td>1.628050</td>\n",
       "      <td>1.951172</td>\n",
       "      <td>-0.889333</td>\n",
       "      <td>-1.323505</td>\n",
       "      <td>-1.749225</td>\n",
       "    </tr>\n",
       "    <tr>\n",
       "      <th>2</th>\n",
       "      <td>42103.5820</td>\n",
       "      <td>3.454189</td>\n",
       "      <td>8.198175</td>\n",
       "      <td>10.508439</td>\n",
       "      <td>11.611003</td>\n",
       "      <td>-7.668313</td>\n",
       "      <td>-9.478675</td>\n",
       "      <td>-12.230939</td>\n",
       "      <td>37562.3008</td>\n",
       "      <td>2.840403</td>\n",
       "      <td>...</td>\n",
       "      <td>-2.384784</td>\n",
       "      <td>-2.867291</td>\n",
       "      <td>5914.6685</td>\n",
       "      <td>5.396827</td>\n",
       "      <td>1.403973</td>\n",
       "      <td>2.476956</td>\n",
       "      <td>3.039841</td>\n",
       "      <td>-1.334558</td>\n",
       "      <td>-1.993659</td>\n",
       "      <td>-2.348370</td>\n",
       "    </tr>\n",
       "    <tr>\n",
       "      <th>3</th>\n",
       "      <td>42825.9883</td>\n",
       "      <td>3.451192</td>\n",
       "      <td>12.113940</td>\n",
       "      <td>16.266853</td>\n",
       "      <td>39.910056</td>\n",
       "      <td>-7.849409</td>\n",
       "      <td>-9.689894</td>\n",
       "      <td>-11.921704</td>\n",
       "      <td>38379.0664</td>\n",
       "      <td>2.851173</td>\n",
       "      <td>...</td>\n",
       "      <td>-2.607199</td>\n",
       "      <td>-3.058086</td>\n",
       "      <td>6147.4744</td>\n",
       "      <td>5.501071</td>\n",
       "      <td>1.981933</td>\n",
       "      <td>3.569823</td>\n",
       "      <td>4.049197</td>\n",
       "      <td>-1.432205</td>\n",
       "      <td>-2.146158</td>\n",
       "      <td>-2.488957</td>\n",
       "    </tr>\n",
       "    <tr>\n",
       "      <th>4</th>\n",
       "      <td>58151.1757</td>\n",
       "      <td>4.194839</td>\n",
       "      <td>11.455096</td>\n",
       "      <td>15.715298</td>\n",
       "      <td>17.654915</td>\n",
       "      <td>-11.083364</td>\n",
       "      <td>-13.580692</td>\n",
       "      <td>-16.407848</td>\n",
       "      <td>51975.5899</td>\n",
       "      <td>3.480866</td>\n",
       "      <td>...</td>\n",
       "      <td>-3.594763</td>\n",
       "      <td>-4.181920</td>\n",
       "      <td>8158.6449</td>\n",
       "      <td>7.174334</td>\n",
       "      <td>1.993808</td>\n",
       "      <td>3.829303</td>\n",
       "      <td>4.402448</td>\n",
       "      <td>-1.930107</td>\n",
       "      <td>-2.931265</td>\n",
       "      <td>-4.088756</td>\n",
       "    </tr>\n",
       "  </tbody>\n",
       "</table>\n",
       "<p>5 rows × 128 columns</p>\n",
       "</div>"
      ],
      "text/plain": [
       "          0         1          2          3          4          5    \\\n",
       "0  15596.1621  1.868245   2.371604   2.803678   7.512213  -2.739388   \n",
       "1  26402.0704  2.532401   5.411209   6.509906   7.658469  -4.722217   \n",
       "2  42103.5820  3.454189   8.198175  10.508439  11.611003  -7.668313   \n",
       "3  42825.9883  3.451192  12.113940  16.266853  39.910056  -7.849409   \n",
       "4  58151.1757  4.194839  11.455096  15.715298  17.654915 -11.083364   \n",
       "\n",
       "         6          7           8         9    ...       118       119  \\\n",
       "0  -3.344671  -4.847512  15326.6914  1.768526  ... -1.071137 -3.037772   \n",
       "1  -5.817651  -7.518333  23855.7812  2.164706  ... -1.530519 -1.994993   \n",
       "2  -9.478675 -12.230939  37562.3008  2.840403  ... -2.384784 -2.867291   \n",
       "3  -9.689894 -11.921704  38379.0664  2.851173  ... -2.607199 -3.058086   \n",
       "4 -13.580692 -16.407848  51975.5899  3.480866  ... -3.594763 -4.181920   \n",
       "\n",
       "         120       121       122       123       124       125       126  \\\n",
       "0  3037.0390  3.972203  0.527291  0.728443  1.445783 -0.545079 -0.902241   \n",
       "1  4176.4453  4.281373  0.980205  1.628050  1.951172 -0.889333 -1.323505   \n",
       "2  5914.6685  5.396827  1.403973  2.476956  3.039841 -1.334558 -1.993659   \n",
       "3  6147.4744  5.501071  1.981933  3.569823  4.049197 -1.432205 -2.146158   \n",
       "4  8158.6449  7.174334  1.993808  3.829303  4.402448 -1.930107 -2.931265   \n",
       "\n",
       "        127  \n",
       "0 -2.654529  \n",
       "1 -1.749225  \n",
       "2 -2.348370  \n",
       "3 -2.488957  \n",
       "4 -4.088756  \n",
       "\n",
       "[5 rows x 128 columns]"
      ]
     },
     "execution_count": 55,
     "metadata": {},
     "output_type": "execute_result"
    }
   ],
   "source": [
    "print(X.shape)\n",
    "X.head()"
   ]
  },
  {
   "cell_type": "markdown",
   "metadata": {},
   "source": [
    "## Min-Max data scaling (-1 to 1)"
   ]
  },
  {
   "cell_type": "code",
   "execution_count": 56,
   "metadata": {},
   "outputs": [],
   "source": [
    "scaler = MinMaxScaler(feature_range=(-1, 1))\n",
    "cols = X.columns\n",
    "X = scaler.fit_transform(X)\n",
    "X = pd.DataFrame(X, columns=cols)"
   ]
  },
  {
   "cell_type": "code",
   "execution_count": 57,
   "metadata": {},
   "outputs": [
    {
     "data": {
      "text/html": [
       "<div>\n",
       "<style scoped>\n",
       "    .dataframe tbody tr th:only-of-type {\n",
       "        vertical-align: middle;\n",
       "    }\n",
       "\n",
       "    .dataframe tbody tr th {\n",
       "        vertical-align: top;\n",
       "    }\n",
       "\n",
       "    .dataframe thead th {\n",
       "        text-align: right;\n",
       "    }\n",
       "</style>\n",
       "<table border=\"1\" class=\"dataframe\">\n",
       "  <thead>\n",
       "    <tr style=\"text-align: right;\">\n",
       "      <th></th>\n",
       "      <th>0</th>\n",
       "      <th>1</th>\n",
       "      <th>2</th>\n",
       "      <th>3</th>\n",
       "      <th>4</th>\n",
       "      <th>5</th>\n",
       "      <th>6</th>\n",
       "      <th>7</th>\n",
       "      <th>8</th>\n",
       "      <th>9</th>\n",
       "      <th>...</th>\n",
       "      <th>118</th>\n",
       "      <th>119</th>\n",
       "      <th>120</th>\n",
       "      <th>121</th>\n",
       "      <th>122</th>\n",
       "      <th>123</th>\n",
       "      <th>124</th>\n",
       "      <th>125</th>\n",
       "      <th>126</th>\n",
       "      <th>127</th>\n",
       "    </tr>\n",
       "  </thead>\n",
       "  <tbody>\n",
       "    <tr>\n",
       "      <th>0</th>\n",
       "      <td>-0.905872</td>\n",
       "      <td>-0.997343</td>\n",
       "      <td>-0.971612</td>\n",
       "      <td>-0.975257</td>\n",
       "      <td>-0.984879</td>\n",
       "      <td>0.958387</td>\n",
       "      <td>0.795490</td>\n",
       "      <td>0.865034</td>\n",
       "      <td>-0.878662</td>\n",
       "      <td>-0.998106</td>\n",
       "      <td>...</td>\n",
       "      <td>0.757627</td>\n",
       "      <td>0.941052</td>\n",
       "      <td>-0.784112</td>\n",
       "      <td>-0.854664</td>\n",
       "      <td>-0.967450</td>\n",
       "      <td>-0.995176</td>\n",
       "      <td>-0.986399</td>\n",
       "      <td>0.964157</td>\n",
       "      <td>0.763942</td>\n",
       "      <td>0.947373</td>\n",
       "    </tr>\n",
       "    <tr>\n",
       "      <th>1</th>\n",
       "      <td>-0.874435</td>\n",
       "      <td>-0.996351</td>\n",
       "      <td>-0.935227</td>\n",
       "      <td>-0.942549</td>\n",
       "      <td>-0.984585</td>\n",
       "      <td>0.928190</td>\n",
       "      <td>0.775693</td>\n",
       "      <td>0.862033</td>\n",
       "      <td>-0.845751</td>\n",
       "      <td>-0.997632</td>\n",
       "      <td>...</td>\n",
       "      <td>0.746861</td>\n",
       "      <td>0.945275</td>\n",
       "      <td>-0.762410</td>\n",
       "      <td>-0.840881</td>\n",
       "      <td>-0.939320</td>\n",
       "      <td>-0.989122</td>\n",
       "      <td>-0.981219</td>\n",
       "      <td>0.941361</td>\n",
       "      <td>0.751117</td>\n",
       "      <td>0.951699</td>\n",
       "    </tr>\n",
       "    <tr>\n",
       "      <th>2</th>\n",
       "      <td>-0.828754</td>\n",
       "      <td>-0.994975</td>\n",
       "      <td>-0.901866</td>\n",
       "      <td>-0.907260</td>\n",
       "      <td>-0.976629</td>\n",
       "      <td>0.883323</td>\n",
       "      <td>0.746385</td>\n",
       "      <td>0.856738</td>\n",
       "      <td>-0.792863</td>\n",
       "      <td>-0.996824</td>\n",
       "      <td>...</td>\n",
       "      <td>0.726840</td>\n",
       "      <td>0.941742</td>\n",
       "      <td>-0.729302</td>\n",
       "      <td>-0.791153</td>\n",
       "      <td>-0.912999</td>\n",
       "      <td>-0.983409</td>\n",
       "      <td>-0.970060</td>\n",
       "      <td>0.911878</td>\n",
       "      <td>0.730715</td>\n",
       "      <td>0.948836</td>\n",
       "    </tr>\n",
       "    <tr>\n",
       "      <th>3</th>\n",
       "      <td>-0.826652</td>\n",
       "      <td>-0.994980</td>\n",
       "      <td>-0.854993</td>\n",
       "      <td>-0.856440</td>\n",
       "      <td>-0.919666</td>\n",
       "      <td>0.880565</td>\n",
       "      <td>0.744694</td>\n",
       "      <td>0.857085</td>\n",
       "      <td>-0.789712</td>\n",
       "      <td>-0.996811</td>\n",
       "      <td>...</td>\n",
       "      <td>0.721628</td>\n",
       "      <td>0.940969</td>\n",
       "      <td>-0.724868</td>\n",
       "      <td>-0.786506</td>\n",
       "      <td>-0.877101</td>\n",
       "      <td>-0.976055</td>\n",
       "      <td>-0.959714</td>\n",
       "      <td>0.905411</td>\n",
       "      <td>0.726073</td>\n",
       "      <td>0.948164</td>\n",
       "    </tr>\n",
       "    <tr>\n",
       "      <th>4</th>\n",
       "      <td>-0.782066</td>\n",
       "      <td>-0.993870</td>\n",
       "      <td>-0.862880</td>\n",
       "      <td>-0.861308</td>\n",
       "      <td>-0.964463</td>\n",
       "      <td>0.831314</td>\n",
       "      <td>0.713546</td>\n",
       "      <td>0.852045</td>\n",
       "      <td>-0.737248</td>\n",
       "      <td>-0.996058</td>\n",
       "      <td>...</td>\n",
       "      <td>0.698484</td>\n",
       "      <td>0.936418</td>\n",
       "      <td>-0.686562</td>\n",
       "      <td>-0.711911</td>\n",
       "      <td>-0.876364</td>\n",
       "      <td>-0.974309</td>\n",
       "      <td>-0.956094</td>\n",
       "      <td>0.872440</td>\n",
       "      <td>0.702171</td>\n",
       "      <td>0.940519</td>\n",
       "    </tr>\n",
       "  </tbody>\n",
       "</table>\n",
       "<p>5 rows × 128 columns</p>\n",
       "</div>"
      ],
      "text/plain": [
       "        0         1         2         3         4         5         6    \\\n",
       "0 -0.905872 -0.997343 -0.971612 -0.975257 -0.984879  0.958387  0.795490   \n",
       "1 -0.874435 -0.996351 -0.935227 -0.942549 -0.984585  0.928190  0.775693   \n",
       "2 -0.828754 -0.994975 -0.901866 -0.907260 -0.976629  0.883323  0.746385   \n",
       "3 -0.826652 -0.994980 -0.854993 -0.856440 -0.919666  0.880565  0.744694   \n",
       "4 -0.782066 -0.993870 -0.862880 -0.861308 -0.964463  0.831314  0.713546   \n",
       "\n",
       "        7         8         9    ...       118       119       120       121  \\\n",
       "0  0.865034 -0.878662 -0.998106  ...  0.757627  0.941052 -0.784112 -0.854664   \n",
       "1  0.862033 -0.845751 -0.997632  ...  0.746861  0.945275 -0.762410 -0.840881   \n",
       "2  0.856738 -0.792863 -0.996824  ...  0.726840  0.941742 -0.729302 -0.791153   \n",
       "3  0.857085 -0.789712 -0.996811  ...  0.721628  0.940969 -0.724868 -0.786506   \n",
       "4  0.852045 -0.737248 -0.996058  ...  0.698484  0.936418 -0.686562 -0.711911   \n",
       "\n",
       "        122       123       124       125       126       127  \n",
       "0 -0.967450 -0.995176 -0.986399  0.964157  0.763942  0.947373  \n",
       "1 -0.939320 -0.989122 -0.981219  0.941361  0.751117  0.951699  \n",
       "2 -0.912999 -0.983409 -0.970060  0.911878  0.730715  0.948836  \n",
       "3 -0.877101 -0.976055 -0.959714  0.905411  0.726073  0.948164  \n",
       "4 -0.876364 -0.974309 -0.956094  0.872440  0.702171  0.940519  \n",
       "\n",
       "[5 rows x 128 columns]"
      ]
     },
     "execution_count": 57,
     "metadata": {},
     "output_type": "execute_result"
    }
   ],
   "source": [
    "X.head()"
   ]
  },
  {
   "cell_type": "code",
   "execution_count": 58,
   "metadata": {},
   "outputs": [
    {
     "data": {
      "text/plain": [
       "0    1.0\n",
       "1    1.0\n",
       "2    1.0\n",
       "3    1.0\n",
       "4    1.0\n",
       "dtype: float64"
      ]
     },
     "execution_count": 58,
     "metadata": {},
     "output_type": "execute_result"
    }
   ],
   "source": [
    "y.head()"
   ]
  },
  {
   "cell_type": "markdown",
   "metadata": {},
   "source": [
    "## Feature Selection Using XGBoost"
   ]
  },
  {
   "cell_type": "code",
   "execution_count": 59,
   "metadata": {},
   "outputs": [
    {
     "name": "stdout",
     "output_type": "stream",
     "text": [
      "Requirement already satisfied: xgboost in c:\\python311\\lib\\site-packages (2.1.0)\n",
      "Requirement already satisfied: numpy in c:\\python311\\lib\\site-packages (from xgboost) (1.26.4)\n",
      "Requirement already satisfied: scipy in c:\\python311\\lib\\site-packages (from xgboost) (1.12.0)\n"
     ]
    },
    {
     "name": "stderr",
     "output_type": "stream",
     "text": [
      "\n",
      "[notice] A new release of pip is available: 23.1.2 -> 24.1.2\n",
      "[notice] To update, run: python.exe -m pip install --upgrade pip\n"
     ]
    }
   ],
   "source": [
    "! pip install xgboost\n",
    "\n"
   ]
  },
  {
   "cell_type": "code",
   "execution_count": 60,
   "metadata": {},
   "outputs": [],
   "source": [
    "from sklearn.model_selection import train_test_split\n",
    "from xgboost import XGBRegressor\n",
    "import xgboost as xgb\n",
    "\n",
    "X_train, X_test, y_train, y_test = train_test_split(X, y, test_size=0.2, shuffle=False)\n"
   ]
  },
  {
   "cell_type": "code",
   "execution_count": 61,
   "metadata": {},
   "outputs": [
    {
     "name": "stdout",
     "output_type": "stream",
     "text": [
      "[0]\tvalidation_0-rmse:3.02514\tvalidation_1-rmse:3.11463\n",
      "[72]\tvalidation_0-rmse:0.00500\tvalidation_1-rmse:1.64153\n",
      "Run time [s] for XGBRegressor model is:  66.6404173374176  Seconds\n"
     ]
    }
   ],
   "source": [
    "\n",
    "import time\n",
    "start = time.time()\n",
    "\n",
    "reg = xgb.XGBRegressor(\n",
    "   base_score=0.5,\n",
    "     booster='gbtree',\n",
    "    n_estimators=500,\n",
    "    objective='reg:squarederror',\n",
    "    max_depth=100,\n",
    "    learning_rate=0.1, early_stopping_rounds = 50)\n",
    "\n",
    "reg.fit(X_train, y_train,\n",
    "        eval_set = [(X_train, y_train), (X_test, y_test)],\n",
    "        verbose = 100)\n",
    "\n",
    "end = time.time()\n",
    "print(\"Run time [s] for XGBRegressor model is: \",end-start, \" Seconds\")"
   ]
  },
  {
   "cell_type": "code",
   "execution_count": 63,
   "metadata": {},
   "outputs": [],
   "source": [
    "\n",
    "y_pred1 = reg.predict(X_test)\n",
    "predictions1 = np.round(y_pred1).astype(int)"
   ]
  },
  {
   "cell_type": "code",
   "execution_count": 64,
   "metadata": {},
   "outputs": [],
   "source": [
    "def calculate_errors(y_true, y_pred):\n",
    "    # Round the predictions to the nearest integer\n",
    "    predictions = np.round(y_pred).astype(int)\n",
    "\n",
    "    # Calculate Mean Absolute Error (MAE)\n",
    "    mae = mean_absolute_error(y_true, predictions)\n",
    "\n",
    "    # Calculate Mean Squared Error (MSE)\n",
    "    mse = mean_squared_error(y_true, predictions)\n",
    "\n",
    "    # Calculate Root Mean Squared Error (RMSE)\n",
    "    rmse = np.sqrt(mse)\n",
    "\n",
    "    # Print error metrics\n",
    "    print(\"Mean Absolute Error (MAE):\", mae)\n",
    "    print(\"Mean Squared Error (MSE):\", mse)\n",
    "    print(\"Root Mean Squared Error (RMSE):\", rmse)\n",
    "\n",
    "    return mae, mse, rmse\n",
    "\n",
    "#mae, mse, rmse = calculate_errors(y_test, y_pred)"
   ]
  },
  {
   "cell_type": "code",
   "execution_count": 65,
   "metadata": {},
   "outputs": [
    {
     "name": "stdout",
     "output_type": "stream",
     "text": [
      "Mean Absolute Error (MAE): 1.097411933860532\n",
      "Mean Squared Error (MSE): 2.713515456506111\n",
      "Root Mean Squared Error (RMSE): 1.6472751611391798\n"
     ]
    }
   ],
   "source": [
    "from sklearn.metrics import mean_absolute_error\n",
    "from sklearn.metrics import mean_squared_error\n",
    "\n",
    "mae, mse, rmse = calculate_errors(y_test, y_pred1)"
   ]
  },
  {
   "cell_type": "code",
   "execution_count": 66,
   "metadata": {},
   "outputs": [],
   "source": [
    "def plot_feature_importance(model, top_n=10):\n",
    "    \"\"\"\n",
    "    Plot the feature importance of a trained XGBoost model.\n",
    "\n",
    "    Args:\n",
    "        model (xgb.XGBRegressor): Trained XGBoost Regressor model.\n",
    "        top_n (int): Number of top features to plot.\n",
    "\n",
    "    Returns:\n",
    "        None\n",
    "    \"\"\"\n",
    "    feat_importances = pd.DataFrame(data=model.feature_importances_,\n",
    "                                    index=model.feature_names_in_,\n",
    "                                    columns=['importance'])\n",
    "    # Sort feature importances and select top_n\n",
    "    feat_importances = feat_importances.sort_values(by='importance', ascending=False).head(top_n)\n",
    "    \n",
    "    # Plot only the top_n features\n",
    "    feat_importances.sort_values('importance').plot(kind='barh', title='Feature Importance')\n",
    "    plt.show()"
   ]
  },
  {
   "cell_type": "code",
   "execution_count": 67,
   "metadata": {},
   "outputs": [
    {
     "data": {
      "image/png": "[encoded data removed]",
      "text/plain": [
       "<Figure size 640x480 with 1 Axes>"
      ]
     },
     "metadata": {},
     "output_type": "display_data"
    }
   ],
   "source": [
    "plot_feature_importance(reg,35)"
   ]
  },
  {
   "cell_type": "code",
   "execution_count": 68,
   "metadata": {},
   "outputs": [
    {
     "name": "stdout",
     "output_type": "stream",
     "text": [
      "2\n",
      "3\n",
      "8\n",
      "10\n",
      "11\n",
      "12\n",
      "14\n",
      "15\n",
      "16\n",
      "17\n",
      "24\n",
      "25\n",
      "26\n",
      "27\n",
      "29\n",
      "41\n",
      "51\n",
      "57\n",
      "59\n",
      "66\n",
      "67\n",
      "68\n",
      "69\n",
      "70\n",
      "71\n",
      "72\n",
      "74\n",
      "75\n",
      "77\n",
      "78\n",
      "79\n",
      "80\n",
      "83\n",
      "85\n",
      "87\n",
      "93\n",
      "95\n",
      "98\n",
      "99\n",
      "100\n",
      "104\n",
      "106\n",
      "108\n",
      "109\n",
      "112\n",
      "115\n",
      "116\n",
      "117\n",
      "123\n",
      "Thresh=0.001, n=49, MAE: 1.05, MSE: 2.35, RMSE: 1.53\n"
     ]
    }
   ],
   "source": [
    "from sklearn.feature_selection import SelectFromModel\n",
    "\n",
    "# Sort feature importances\n",
    "thresholds = [0.001]\n",
    "for thresh in thresholds:\n",
    "    # Select features using threshold\n",
    "    selection = SelectFromModel(reg, threshold=thresh, prefit=True)\n",
    "    select_X_train = selection.transform(X_train)\n",
    "    \n",
    "    # Train model\n",
    "    selection_model =  XGBRegressor()\n",
    "    selection_model.fit(select_X_train, y_train)\n",
    "    \n",
    "    # Get selected feature indices\n",
    "    selected_feature_indices = selection.get_support(indices=True)\n",
    "    \n",
    "    # Get selected feature names\n",
    "    selected_feature_names = X_train.columns[selected_feature_indices]\n",
    "    \n",
    "    # Evaluate model\n",
    "    select_X_test = selection.transform(X_test)\n",
    "    y_pred1 = selection_model.predict(select_X_test)\n",
    "    predictions1 = np.round(y_pred1)\n",
    "    \n",
    "    # Print selected feature names\n",
    "    for feature in selected_feature_names:\n",
    "        print(feature)\n",
    "    \n",
    "    # Calculate metrics\n",
    "    mae = mean_absolute_error(y_test, y_pred1)\n",
    "    mse = mean_squared_error(y_test, y_pred1)\n",
    "    rmse = np.sqrt(mse)\n",
    "    \n",
    "    print(\"Thresh=%.3f, n=%d, MAE: %.2f, MSE: %.2f, RMSE: %.2f\" % (thresh, select_X_train.shape[1], mae, mse, rmse))"
   ]
  },
  {
   "cell_type": "code",
   "execution_count": 69,
   "metadata": {},
   "outputs": [],
   "source": [
    "Final_Features = ['2','3','8','10','11','12','14','15','16','17','24','25','26','27','29','41','51','57','59','66','67','68','69','70',\n",
    "                  '71','72','74','75','78','79','80','83','85','87','93','95','98','99','100','104','106','108','109','112','115','116',\n",
    "                  '117','123']"
   ]
  },
  {
   "cell_type": "code",
   "execution_count": 70,
   "metadata": {},
   "outputs": [],
   "source": [
    "X.columns = X.columns.astype(str)\n",
    "\n",
    "# Then you don't need to convert Final_Features\n",
    "# Just select the columns\n",
    "X = X[Final_Features]"
   ]
  },
  {
   "cell_type": "code",
   "execution_count": 71,
   "metadata": {},
   "outputs": [
    {
     "data": {
      "text/plain": [
       "(13910, 48)"
      ]
     },
     "execution_count": 71,
     "metadata": {},
     "output_type": "execute_result"
    }
   ],
   "source": [
    "X.shape"
   ]
  },
  {
   "cell_type": "code",
   "execution_count": 72,
   "metadata": {},
   "outputs": [],
   "source": [
    "y.name = 'target'\n",
    "dataset = pd.concat([X, y], axis=1)\n",
    "dataset.to_csv('../Dataset/dataset.csv', index=False)"
   ]
  },
  {
   "cell_type": "code",
   "execution_count": 74,
   "metadata": {},
   "outputs": [
    {
     "data": {
      "text/plain": [
       "(13910, 49)"
      ]
     },
     "execution_count": 74,
     "metadata": {},
     "output_type": "execute_result"
    }
   ],
   "source": [
    "dataset.shape"
   ]
  },
  {
   "cell_type": "code",
   "execution_count": null,
   "metadata": {},
   "outputs": [],
   "source": []
  }
 ],
 "metadata": {
  "kernelspec": {
   "display_name": "Python 3",
   "language": "python",
   "name": "python3"
  },
  "language_info": {
   "codemirror_mode": {
    "name": "ipython",
    "version": 3
   },
   "file_extension": ".py",
   "mimetype": "text/x-python",
   "name": "python",
   "nbconvert_exporter": "python",
   "pygments_lexer": "ipython3",
   "version": "3.11.4"
  }
 },
 "nbformat": 4,
 "nbformat_minor": 2
}
